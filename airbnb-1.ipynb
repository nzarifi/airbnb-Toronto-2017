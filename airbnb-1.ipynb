{
 "cells": [
  {
   "cell_type": "markdown",
   "metadata": {},
   "source": [
    "# Classification methods: Airbnb_Toronto_2017\n",
    "You can find dataset at \n",
    "<br>\n",
    "http://tomslee.net/airbnb-data-collection-get-the-data\n"
   ]
  },
  {
   "cell_type": "code",
   "execution_count": 1,
   "metadata": {},
   "outputs": [],
   "source": [
    "import numpy as np\n",
    "import pandas as pd\n",
    "import seaborn as sns\n",
    "from matplotlib import pyplot as plt\n",
    "import os\n",
    "from sklearn.preprocessing import StandardScaler, PolynomialFeatures\n",
    "import pandas as pd\n",
    "import numpy as np\n",
    "from sklearn.model_selection import train_test_split\n",
    "import matplotlib.pyplot as plt\n",
    "from matplotlib.colors import ListedColormap\n",
    "from random import randint\n",
    "import sklearn\n"
   ]
  },
  {
   "cell_type": "code",
   "execution_count": 2,
   "metadata": {},
   "outputs": [
    {
     "name": "stdout",
     "output_type": "stream",
     "text": [
      "0.19.1\n"
     ]
    }
   ],
   "source": [
    "print (sklearn.__version__) #0.19.1\n"
   ]
  },
  {
   "cell_type": "code",
   "execution_count": 3,
   "metadata": {},
   "outputs": [],
   "source": [
    "os.getcwd()\n",
    "os.chdir('/Users/niloofarzarifi/Desktop/Udacity/khaneh/airbnb-Toronto/')\n",
    "\n",
    "df1 = pd.read_csv('./2017/tomslee_airbnb_toronto_0778_2017-01-14.csv')\n",
    "df2 = pd.read_csv('./2017/tomslee_airbnb_toronto_0857_2017-02-16.csv')\n",
    "df3 = pd.read_csv('./2017/tomslee_airbnb_toronto_0930_2017-03-12.csv')\n",
    "df4 = pd.read_csv('./2017/tomslee_airbnb_toronto_1042_2017-04-08.csv')"
   ]
  },
  {
   "cell_type": "code",
   "execution_count": 5,
   "metadata": {},
   "outputs": [
    {
     "data": {
      "text/plain": [
       "(50559, 14)"
      ]
     },
     "execution_count": 5,
     "metadata": {},
     "output_type": "execute_result"
    }
   ],
   "source": [
    "frames = [df1, df2, df3, df4]\n",
    "result = pd.concat(frames)\n",
    "result.shape"
   ]
  },
  {
   "cell_type": "markdown",
   "metadata": {},
   "source": [
    "Here, check duplication, null values,drop columns"
   ]
  },
  {
   "cell_type": "code",
   "execution_count": null,
   "metadata": {},
   "outputs": [],
   "source": [
    "DF = result[result.duplicated()]\n",
    "result[result.duplicated(['host_id'])].count()\n",
    "result[result.duplicated(['room_id'])].count()\n",
    "result[result.duplicated(['last_modified'])].count()\n",
    "result.duplicated(['room_id', 'host_id', 'room_type',\n",
    "                   'neighborhood'])  # True or False\n",
    "\n",
    "result.isnull().sum()  # drop two empty cols\n",
    "result.columns.tolist()\n",
    "result = result.drop(['borough', 'minstay', 'room_id', 'host_id',\n",
    "                      'latitude', 'longitude', 'last_modified'], axis=1)\n",
    "\n",
    "result.columns.tolist()\n",
    "\n",
    "result.head()\n",
    "result.overall_satisfaction.value_counts()\n",
    "result.overall_satisfaction.nunique()  # target is 10 classes\n",
    "result.room_type.value_counts()  # make dummy\n",
    "result.neighborhood.value_counts()  # 139 neighborhood"
   ]
  },
  {
   "cell_type": "code",
   "execution_count": 6,
   "metadata": {},
   "outputs": [
    {
     "data": {
      "text/html": [
       "<div>\n",
       "<style>\n",
       "    .dataframe thead tr:only-child th {\n",
       "        text-align: right;\n",
       "    }\n",
       "\n",
       "    .dataframe thead th {\n",
       "        text-align: left;\n",
       "    }\n",
       "\n",
       "    .dataframe tbody tr th {\n",
       "        vertical-align: top;\n",
       "    }\n",
       "</style>\n",
       "<table border=\"1\" class=\"dataframe\">\n",
       "  <thead>\n",
       "    <tr style=\"text-align: right;\">\n",
       "      <th></th>\n",
       "      <th>reviews</th>\n",
       "      <th>overall_satisfaction</th>\n",
       "      <th>accommodates</th>\n",
       "      <th>bedrooms</th>\n",
       "      <th>price</th>\n",
       "      <th>room_type_Private room</th>\n",
       "      <th>room_type_Shared room</th>\n",
       "      <th>neighborhood_Agincourt South-Malvern West (128)</th>\n",
       "      <th>neighborhood_Alderwood (20)</th>\n",
       "      <th>neighborhood_Annex (95)</th>\n",
       "      <th>...</th>\n",
       "      <th>neighborhood_Willowdale West (37)</th>\n",
       "      <th>neighborhood_Willowridge-Martingrove-Richview (7)</th>\n",
       "      <th>neighborhood_Woburn (137)</th>\n",
       "      <th>neighborhood_Woodbine Corridor (64)</th>\n",
       "      <th>neighborhood_Woodbine-Lumsden (60)</th>\n",
       "      <th>neighborhood_Wychwood (94)</th>\n",
       "      <th>neighborhood_Yonge-Eglinton (100)</th>\n",
       "      <th>neighborhood_Yonge-St.Clair (97)</th>\n",
       "      <th>neighborhood_York University Heights (27)</th>\n",
       "      <th>neighborhood_Yorkdale-Glen Park (31)</th>\n",
       "    </tr>\n",
       "  </thead>\n",
       "  <tbody>\n",
       "    <tr>\n",
       "      <th>0</th>\n",
       "      <td>0</td>\n",
       "      <td>0.0</td>\n",
       "      <td>4</td>\n",
       "      <td>1.0</td>\n",
       "      <td>392.0</td>\n",
       "      <td>0</td>\n",
       "      <td>1</td>\n",
       "      <td>0</td>\n",
       "      <td>0</td>\n",
       "      <td>0</td>\n",
       "      <td>...</td>\n",
       "      <td>0</td>\n",
       "      <td>0</td>\n",
       "      <td>0</td>\n",
       "      <td>0</td>\n",
       "      <td>0</td>\n",
       "      <td>0</td>\n",
       "      <td>0</td>\n",
       "      <td>0</td>\n",
       "      <td>0</td>\n",
       "      <td>0</td>\n",
       "    </tr>\n",
       "    <tr>\n",
       "      <th>1</th>\n",
       "      <td>0</td>\n",
       "      <td>0.0</td>\n",
       "      <td>4</td>\n",
       "      <td>1.0</td>\n",
       "      <td>77.0</td>\n",
       "      <td>0</td>\n",
       "      <td>1</td>\n",
       "      <td>0</td>\n",
       "      <td>0</td>\n",
       "      <td>0</td>\n",
       "      <td>...</td>\n",
       "      <td>0</td>\n",
       "      <td>0</td>\n",
       "      <td>0</td>\n",
       "      <td>0</td>\n",
       "      <td>0</td>\n",
       "      <td>0</td>\n",
       "      <td>0</td>\n",
       "      <td>0</td>\n",
       "      <td>0</td>\n",
       "      <td>0</td>\n",
       "    </tr>\n",
       "    <tr>\n",
       "      <th>2</th>\n",
       "      <td>0</td>\n",
       "      <td>0.0</td>\n",
       "      <td>2</td>\n",
       "      <td>1.0</td>\n",
       "      <td>157.0</td>\n",
       "      <td>0</td>\n",
       "      <td>1</td>\n",
       "      <td>0</td>\n",
       "      <td>0</td>\n",
       "      <td>0</td>\n",
       "      <td>...</td>\n",
       "      <td>0</td>\n",
       "      <td>0</td>\n",
       "      <td>0</td>\n",
       "      <td>0</td>\n",
       "      <td>0</td>\n",
       "      <td>0</td>\n",
       "      <td>0</td>\n",
       "      <td>0</td>\n",
       "      <td>0</td>\n",
       "      <td>0</td>\n",
       "    </tr>\n",
       "    <tr>\n",
       "      <th>3</th>\n",
       "      <td>5</td>\n",
       "      <td>5.0</td>\n",
       "      <td>2</td>\n",
       "      <td>1.0</td>\n",
       "      <td>71.0</td>\n",
       "      <td>0</td>\n",
       "      <td>1</td>\n",
       "      <td>0</td>\n",
       "      <td>0</td>\n",
       "      <td>0</td>\n",
       "      <td>...</td>\n",
       "      <td>0</td>\n",
       "      <td>0</td>\n",
       "      <td>0</td>\n",
       "      <td>0</td>\n",
       "      <td>0</td>\n",
       "      <td>0</td>\n",
       "      <td>0</td>\n",
       "      <td>0</td>\n",
       "      <td>0</td>\n",
       "      <td>0</td>\n",
       "    </tr>\n",
       "    <tr>\n",
       "      <th>4</th>\n",
       "      <td>0</td>\n",
       "      <td>0.0</td>\n",
       "      <td>2</td>\n",
       "      <td>1.0</td>\n",
       "      <td>78.0</td>\n",
       "      <td>0</td>\n",
       "      <td>1</td>\n",
       "      <td>0</td>\n",
       "      <td>0</td>\n",
       "      <td>0</td>\n",
       "      <td>...</td>\n",
       "      <td>0</td>\n",
       "      <td>0</td>\n",
       "      <td>0</td>\n",
       "      <td>0</td>\n",
       "      <td>0</td>\n",
       "      <td>0</td>\n",
       "      <td>0</td>\n",
       "      <td>0</td>\n",
       "      <td>0</td>\n",
       "      <td>0</td>\n",
       "    </tr>\n",
       "  </tbody>\n",
       "</table>\n",
       "<p>5 rows × 145 columns</p>\n",
       "</div>"
      ],
      "text/plain": [
       "   reviews  overall_satisfaction  accommodates  bedrooms  price  \\\n",
       "0        0                   0.0             4       1.0  392.0   \n",
       "1        0                   0.0             4       1.0   77.0   \n",
       "2        0                   0.0             2       1.0  157.0   \n",
       "3        5                   5.0             2       1.0   71.0   \n",
       "4        0                   0.0             2       1.0   78.0   \n",
       "\n",
       "   room_type_Private room  room_type_Shared room  \\\n",
       "0                       0                      1   \n",
       "1                       0                      1   \n",
       "2                       0                      1   \n",
       "3                       0                      1   \n",
       "4                       0                      1   \n",
       "\n",
       "   neighborhood_Agincourt South-Malvern West (128)  \\\n",
       "0                                                0   \n",
       "1                                                0   \n",
       "2                                                0   \n",
       "3                                                0   \n",
       "4                                                0   \n",
       "\n",
       "   neighborhood_Alderwood (20)  neighborhood_Annex (95)  \\\n",
       "0                            0                        0   \n",
       "1                            0                        0   \n",
       "2                            0                        0   \n",
       "3                            0                        0   \n",
       "4                            0                        0   \n",
       "\n",
       "                   ...                   neighborhood_Willowdale West (37)  \\\n",
       "0                  ...                                                   0   \n",
       "1                  ...                                                   0   \n",
       "2                  ...                                                   0   \n",
       "3                  ...                                                   0   \n",
       "4                  ...                                                   0   \n",
       "\n",
       "   neighborhood_Willowridge-Martingrove-Richview (7)  \\\n",
       "0                                                  0   \n",
       "1                                                  0   \n",
       "2                                                  0   \n",
       "3                                                  0   \n",
       "4                                                  0   \n",
       "\n",
       "   neighborhood_Woburn (137)  neighborhood_Woodbine Corridor (64)  \\\n",
       "0                          0                                    0   \n",
       "1                          0                                    0   \n",
       "2                          0                                    0   \n",
       "3                          0                                    0   \n",
       "4                          0                                    0   \n",
       "\n",
       "   neighborhood_Woodbine-Lumsden (60)  neighborhood_Wychwood (94)  \\\n",
       "0                                   0                           0   \n",
       "1                                   0                           0   \n",
       "2                                   0                           0   \n",
       "3                                   0                           0   \n",
       "4                                   0                           0   \n",
       "\n",
       "   neighborhood_Yonge-Eglinton (100)  neighborhood_Yonge-St.Clair (97)  \\\n",
       "0                                  0                                 0   \n",
       "1                                  0                                 0   \n",
       "2                                  0                                 0   \n",
       "3                                  0                                 0   \n",
       "4                                  0                                 0   \n",
       "\n",
       "   neighborhood_York University Heights (27)  \\\n",
       "0                                          0   \n",
       "1                                          0   \n",
       "2                                          0   \n",
       "3                                          0   \n",
       "4                                          0   \n",
       "\n",
       "   neighborhood_Yorkdale-Glen Park (31)  \n",
       "0                                     0  \n",
       "1                                     0  \n",
       "2                                     0  \n",
       "3                                     0  \n",
       "4                                     0  \n",
       "\n",
       "[5 rows x 145 columns]"
      ]
     },
     "execution_count": 6,
     "metadata": {},
     "output_type": "execute_result"
    }
   ],
   "source": [
    "data=pd.read_csv('./cleaned-airbnb.csv')\n",
    "data.head() #145 columns\n"
   ]
  },
  {
   "cell_type": "markdown",
   "metadata": {},
   "source": [
    "- Update target\n",
    "  * we must convert float to int in target column otherwise it gets continus error in classification \n",
    "  * example:cannot convert to object, err:unkown format in KNN model\n",
    "  * old-class:0,1,1.5,2,2.5,3,3.5,4,4.5,5\n",
    "  * new-class:0,2,3,4,5,6,7,8,9,10"
   ]
  },
  {
   "cell_type": "code",
   "execution_count": 7,
   "metadata": {},
   "outputs": [
    {
     "data": {
      "text/plain": [
       "0     21436\n",
       "10    16552\n",
       "9     10403\n",
       "8      1633\n",
       "7       378\n",
       "6        91\n",
       "5        56\n",
       "4         4\n",
       "2         4\n",
       "3         2\n",
       "Name: overall_satisfaction, dtype: int64"
      ]
     },
     "execution_count": 7,
     "metadata": {},
     "output_type": "execute_result"
    }
   ],
   "source": [
    "y=data['overall_satisfaction']*2  \n",
    "#int format converts 4.5, 3.5 that's why I changed it to 2,3,4,...10 \n",
    "y=y.astype(int) \n",
    "y.dtypes\n",
    "type(y)\n",
    "y.value_counts()"
   ]
  },
  {
   "cell_type": "markdown",
   "metadata": {},
   "source": [
    "We are only interested to use z-score for price col\n",
    "<br>\n",
    "StandardScaler will change all dummies to continus number which decreases the accuracy score by 3%"
   ]
  },
  {
   "cell_type": "code",
   "execution_count": 8,
   "metadata": {},
   "outputs": [
    {
     "data": {
      "text/plain": [
       "'\\n#prefer to not use standardscalar\\nfrom sklearn.preprocessing import StandardScaler\\nsc=StandardScaler()\\nX_scaled=sc.fit_transform(X)\\ntype(X_scaled)\\n'"
      ]
     },
     "execution_count": 8,
     "metadata": {},
     "output_type": "execute_result"
    }
   ],
   "source": [
    "X=data.drop(['overall_satisfaction'],axis=1)\n",
    "\n",
    "X['price']= (data['price'] - data['price'].mean())/data['price'].std(ddof=0)\n",
    "\n",
    "\n",
    "\"\"\"\n",
    "#prefer to not use standardscalar\n",
    "from sklearn.preprocessing import StandardScaler\n",
    "sc=StandardScaler()\n",
    "X_scaled=sc.fit_transform(X)\n",
    "type(X_scaled)\n",
    "\"\"\""
   ]
  },
  {
   "cell_type": "code",
   "execution_count": 9,
   "metadata": {},
   "outputs": [
    {
     "data": {
      "text/plain": [
       "144"
      ]
     },
     "execution_count": 9,
     "metadata": {},
     "output_type": "execute_result"
    }
   ],
   "source": [
    "FILTER_COL=X.columns.tolist()\n",
    "len(FILTER_COL)"
   ]
  },
  {
   "cell_type": "markdown",
   "metadata": {},
   "source": [
    "### RandomForest cross validation with 10 Kfold"
   ]
  },
  {
   "cell_type": "code",
   "execution_count": 10,
   "metadata": {},
   "outputs": [],
   "source": [
    "from sklearn.ensemble import RandomForestClassifier\n",
    "from sklearn import tree\n",
    "from sklearn.tree import DecisionTreeClassifier, export_graphviz\n",
    "import pydotplus\n",
    "from IPython.display import Image\n",
    "from sklearn import model_selection\n",
    "#model.get_params()"
   ]
  },
  {
   "cell_type": "markdown",
   "metadata": {},
   "source": [
    "### Optimize number of trees"
   ]
  },
  {
   "cell_type": "code",
   "execution_count": 11,
   "metadata": {},
   "outputs": [
    {
     "name": "stdout",
     "output_type": "stream",
     "text": [
      "('RandomForestClassifier, Cross_val_score=', 0.89592354355256743)\n",
      "('RandomForestClassifier, Cross_val_score=', 0.89790142686774588)\n",
      "('RandomForestClassifier, Cross_val_score=', 0.90846335874995321)\n",
      "('RandomForestClassifier, Cross_val_score=', 0.90937321191576215)\n",
      "('RandomForestClassifier, Cross_val_score=', 0.91364535207652531)\n",
      "('RandomForestClassifier, Cross_val_score=', 0.91342781226132774)\n",
      "('RandomForestClassifier, Cross_val_score=', 0.91591991260689376)\n",
      "('RandomForestClassifier, Cross_val_score=', 0.91890660409545644)\n",
      "('RandomForestClassifier, Cross_val_score=', 0.92048892561569562)\n",
      "('RandomForestClassifier, Cross_val_score=', 0.91866927014861832)\n",
      "('RandomForestClassifier, Cross_val_score=', 0.9213789376979804)\n",
      "('RandomForestClassifier, Cross_val_score=', 0.92046911583342728)\n",
      "('RandomForestClassifier, Cross_val_score=', 0.92110204287646025)\n",
      "('RandomForestClassifier, Cross_val_score=', 0.92128006876885882)\n",
      "('RandomForestClassifier, Cross_val_score=', 0.92191299189923515)\n",
      "('RandomForestClassifier, Cross_val_score=', 0.92276347832075012)\n",
      "('RandomForestClassifier, Cross_val_score=', 0.92234806761697286)\n"
     ]
    }
   ],
   "source": [
    "Mean_result=[]\n",
    "Full_result=[]\n",
    "kfold = model_selection.KFold(n_splits=10, random_state=0)\n",
    "#optimize number of trees\n",
    "for num_trees in range(3,20):\n",
    "    model = RandomForestClassifier(n_estimators=num_trees)\n",
    "    results = model_selection.cross_val_score(model, X, y, cv=kfold)\n",
    "    Mean_result.append(results.mean())\n",
    "    Full_result.append(results)\n",
    "    print(\"RandomForestClassifier, Cross_val_score=\",results.mean() )"
   ]
  },
  {
   "cell_type": "code",
   "execution_count": 12,
   "metadata": {},
   "outputs": [
    {
     "data": {
      "text/plain": [
       "Text(0.5,1,'Mean of Cross validation scores with 10 Kfolds')"
      ]
     },
     "execution_count": 12,
     "metadata": {},
     "output_type": "execute_result"
    },
    {
     "data": {
      "image/png": "[encoded data removed]",
      "text/plain": [
       "<Figure size 432x288 with 1 Axes>"
      ]
     },
     "metadata": {
      "needs_background": "light"
     },
     "output_type": "display_data"
    }
   ],
   "source": [
    "plt.plot(range(3,20),Mean_result)\n",
    "plt.scatter(range(3,20),Mean_result)\n",
    "plt.xlabel(\"number of trees\")\n",
    "plt.ylabel('Cross_val_score')\n",
    "plt.title('Mean of Cross validation scores with 10 Kfolds')"
   ]
  },
  {
   "cell_type": "markdown",
   "metadata": {},
   "source": [
    "here I show why we need average of result (results.mean()) and Full_result.append(results) is meaningless"
   ]
  },
  {
   "cell_type": "code",
   "execution_count": 13,
   "metadata": {},
   "outputs": [
    {
     "data": {
      "text/plain": [
       "Text(0.5,1,'Cross validation scores with 10 Kfolds')"
      ]
     },
     "execution_count": 13,
     "metadata": {},
     "output_type": "execute_result"
    },
    {
     "data": {
      "image/png": "[encoded data removed]",
      "text/plain": [
       "<Figure size 432x288 with 1 Axes>"
      ]
     },
     "metadata": {
      "needs_background": "light"
     },
     "output_type": "display_data"
    }
   ],
   "source": [
    "lt=[range(3,20)] * 10\n",
    "plt.scatter(lt,Full_result)\n",
    "plt.xlabel(\"number of trees\")\n",
    "plt.ylabel('Cross_val_score')\n",
    "plt.title('Cross validation scores with 10 Kfolds')"
   ]
  },
  {
   "cell_type": "markdown",
   "metadata": {},
   "source": [
    "### How to visualize a Decision Tree from a Random Forest in Python using Scikit-Learn\n",
    "It shows how trees grow and what is the Max_depth for each branch\n",
    "<br>\n",
    "you could run this part in jupyter, since the image is big (35mb), I did not show it here"
   ]
  },
  {
   "cell_type": "code",
   "execution_count": 1,
   "metadata": {},
   "outputs": [
    {
     "data": {
      "text/plain": [
       "\"\\n#how about Max_depth?\\n#How to Visualize a Decision Tree from a Random Forest in Python using Scikit-Learn\\nX_train, X_test, y_train, y_test = train_test_split(X, y, test_size=0.3, stratify=y ,random_state=0)    \\nfrom sklearn.ensemble import RandomForestClassifier\\nfrom sklearn import tree\\nfrom sklearn.tree import DecisionTreeClassifier, export_graphviz\\nimport pydotplus\\nfrom IPython.display import Image\\nmodel = RandomForestClassifier(n_estimators=10,max_depth=20) #max_depth=None takes forever\\n\\n# Train\\nmodel.fit(X_train, y_train)\\n# Extract single tree\\nestimator = model.estimators_[3] #we can change the tree number:) here I show #3\\n\\n# Create DOT data\\ndot_data = tree.export_graphviz(estimator, out_file=None, \\n                                feature_names=filter_col,  \\n                                class_names=['0','2','3','4','5','6','7','8','9','10'],\\n                                rounded = True, proportion = False,\\n                                precision = 2, filled = True)\\n                                \\n\\n# Draw graph\\ngraph = pydotplus.graph_from_dot_data(dot_data)  \\n# Show graph\\nImage(graph.create_png())\\n\""
      ]
     },
     "execution_count": 1,
     "metadata": {},
     "output_type": "execute_result"
    }
   ],
   "source": [
    "from sklearn.ensemble import RandomForestClassifier\n",
    "from sklearn import tree\n",
    "from sklearn.tree import DecisionTreeClassifier, export_graphviz\n",
    "import pydotplus\n",
    "from IPython.display import Image\n",
    "\n",
    "X_train, X_test, y_train, y_test = train_test_split(X, y, test_size=0.3, stratify=y ,random_state=0)\n",
    "model = RandomForestClassifier(n_estimators=10,max_depth=20) #max_depth=None takes forever\n",
    "\n",
    "# Train\n",
    "model.fit(X_train, y_train)\n",
    "# Extract single tree\n",
    "estimator = model.estimators_[3] #we can change the tree number:) here I show #3\n",
    "\n",
    "# Create DOT data\n",
    "dot_data = tree.export_graphviz(estimator, out_file=None, \n",
    "                                feature_names=FILTER_COL,  \n",
    "                                class_names=['0','2','3','4','5','6','7','8','9','10'],\n",
    "                                rounded = True, proportion = False,\n",
    "                                precision = 2, filled = True)\n",
    "                                \n",
    "\n",
    "# Draw graph\n",
    "graph = pydotplus.graph_from_dot_data(dot_data)  \n",
    "# Show graph\n",
    "Image(graph.create_png())\n"
   ]
  },
  {
   "cell_type": "code",
   "execution_count": 12,
   "metadata": {},
   "outputs": [
    {
     "data": {
      "text/plain": [
       "array([[6422,    0,    0,    0,    0,    0,    0,    1,    2,    6],\n",
       "       [   0,    1,    0,    0,    0,    0,    0,    0,    0,    0],\n",
       "       [   0,    0,    0,    0,    0,    0,    0,    0,    1,    0],\n",
       "       [   0,    0,    0,    0,    0,    0,    0,    0,    0,    1],\n",
       "       [   0,    0,    0,    0,    4,    0,    0,    0,    1,   12],\n",
       "       [   0,    0,    0,    0,    0,    2,    0,    0,    0,   25],\n",
       "       [   0,    0,    0,    0,    0,    1,   11,    6,    7,   88],\n",
       "       [   1,    0,    0,    0,    0,    0,    2,   54,   47,  386],\n",
       "       [   3,    0,    0,    0,    0,    0,    1,   10,  975, 2132],\n",
       "       [   0,    0,    0,    0,    0,    0,    0,    8,  262, 4696]])"
      ]
     },
     "execution_count": 12,
     "metadata": {},
     "output_type": "execute_result"
    }
   ],
   "source": [
    "from sklearn.metrics import classification_report, confusion_matrix, accuracy_score\n",
    "\n",
    "\n",
    "y_pred = model.predict(X_test)\n",
    "confusion_matrix(y_test,y_pred)"
   ]
  },
  {
   "cell_type": "code",
   "execution_count": 13,
   "metadata": {},
   "outputs": [
    {
     "name": "stdout",
     "output_type": "stream",
     "text": [
      "             precision    recall  f1-score   support\n",
      "\n",
      "          0       1.00      1.00      1.00      6431\n",
      "          2       1.00      1.00      1.00         1\n",
      "          3       0.00      0.00      0.00         1\n",
      "          4       0.00      0.00      0.00         1\n",
      "          5       1.00      0.24      0.38        17\n",
      "          6       0.67      0.07      0.13        27\n",
      "          7       0.79      0.10      0.17       113\n",
      "          8       0.68      0.11      0.19       490\n",
      "          9       0.75      0.31      0.44      3121\n",
      "         10       0.64      0.95      0.76      4966\n",
      "\n",
      "avg / total       0.82      0.80      0.77     15168\n",
      "\n"
     ]
    },
    {
     "name": "stderr",
     "output_type": "stream",
     "text": [
      "/Users/niloofarzarifi/anaconda2/lib/python2.7/site-packages/sklearn/metrics/classification.py:1135: UndefinedMetricWarning: Precision and F-score are ill-defined and being set to 0.0 in labels with no predicted samples.\n",
      "  'precision', 'predicted', average, warn_for)\n"
     ]
    }
   ],
   "source": [
    "print classification_report(y_test,y_pred)"
   ]
  },
  {
   "cell_type": "markdown",
   "metadata": {},
   "source": [
    "The accuracy drops with max_depth=20, therefore 90% score occurs with much larger depth"
   ]
  },
  {
   "cell_type": "code",
   "execution_count": 14,
   "metadata": {},
   "outputs": [
    {
     "data": {
      "text/plain": [
       "0.80201740506329111"
      ]
     },
     "execution_count": 14,
     "metadata": {},
     "output_type": "execute_result"
    }
   ],
   "source": [
    "accuracy_score(y_test,y_pred) "
   ]
  },
  {
   "cell_type": "markdown",
   "metadata": {},
   "source": [
    "### let's try to optimize the RF with gridsearch"
   ]
  },
  {
   "cell_type": "code",
   "execution_count": 15,
   "metadata": {},
   "outputs": [
    {
     "name": "stdout",
     "output_type": "stream",
     "text": [
      "Parameters currently in use:\n",
      "\n",
      "{'bootstrap': True,\n",
      " 'class_weight': None,\n",
      " 'criterion': 'gini',\n",
      " 'max_depth': None,\n",
      " 'max_features': 'auto',\n",
      " 'max_leaf_nodes': None,\n",
      " 'min_impurity_decrease': 0.0,\n",
      " 'min_impurity_split': None,\n",
      " 'min_samples_leaf': 1,\n",
      " 'min_samples_split': 2,\n",
      " 'min_weight_fraction_leaf': 0.0,\n",
      " 'n_estimators': 10,\n",
      " 'n_jobs': 1,\n",
      " 'oob_score': False,\n",
      " 'random_state': 0,\n",
      " 'verbose': 0,\n",
      " 'warm_start': False}\n"
     ]
    }
   ],
   "source": [
    "#This is the default values\n",
    "model = RandomForestClassifier(random_state = 0)\n",
    "from pprint import pprint\n",
    "# Look at parameters used by our current forest\n",
    "print('Parameters currently in use:\\n')\n",
    "pprint(model.get_params())"
   ]
  },
  {
   "cell_type": "markdown",
   "metadata": {},
   "source": [
    "### Random Hyperparameter Grid\n",
    "https://towardsdatascience.com/hyperparameter-tuning-the-random-forest-in-python-using-scikit-learn-28d2aa77dd74"
   ]
  },
  {
   "cell_type": "code",
   "execution_count": 16,
   "metadata": {},
   "outputs": [
    {
     "name": "stdout",
     "output_type": "stream",
     "text": [
      "{'bootstrap': [True, False],\n",
      " 'max_depth': [10, 20, 30],\n",
      " 'max_features': ['auto', 'sqrt'],\n",
      " 'min_samples_leaf': [5, 10, 15],\n",
      " 'min_samples_split': [10, 20, 30],\n",
      " 'n_estimators': [10, 11, 12, 25, 15]}\n"
     ]
    }
   ],
   "source": [
    "from sklearn.model_selection import RandomizedSearchCV\n",
    "\n",
    "\n",
    "# Number of trees in random forest\n",
    "n_estimators=[10,11,12,25,15]\n",
    "#n_estimators = [int(x) for x in np.linspace(start = 200, stop = 2000, num = 10)]\n",
    "\n",
    "# Number of features to consider at every split\n",
    "max_features = ['auto', 'sqrt']\n",
    "\n",
    "# Maximum number of levels in tree\n",
    "max_depth=[10,20,30]\n",
    "#max_depth = [int(x) for x in np.linspace(10, 110, num = 11)]\n",
    "#max_depth.append(None)\n",
    "\n",
    "# Minimum number of samples required to split a node\n",
    "min_samples_split = [10, 20, 30]\n",
    "\n",
    "# Minimum number of samples required at each leaf node\n",
    "min_samples_leaf = [5, 10, 15]\n",
    "\n",
    "# Method of selecting samples for training each tree\n",
    "bootstrap = [True, False]\n",
    "\n",
    "# Create the random grid\n",
    "random_grid = {'n_estimators': n_estimators,\n",
    "               'max_features': max_features,\n",
    "               'max_depth': max_depth,\n",
    "               'min_samples_split': min_samples_split,\n",
    "               'min_samples_leaf': min_samples_leaf,\n",
    "               'bootstrap': bootstrap}\n",
    "pprint(random_grid)"
   ]
  },
  {
   "cell_type": "markdown",
   "metadata": {},
   "source": [
    "**Use the random grid to search for best hyperparameters**\n",
    "<br>\n",
    "First create the base model to tune\n"
   ]
  },
  {
   "cell_type": "code",
   "execution_count": null,
   "metadata": {},
   "outputs": [],
   "source": [
    "model = RandomForestClassifier()"
   ]
  },
  {
   "cell_type": "markdown",
   "metadata": {},
   "source": [
    "Random search of parameters, using 3 fold cross validation, \n",
    "<br>\n",
    "search across 100 different combinations, and use all available cores"
   ]
  },
  {
   "cell_type": "code",
   "execution_count": null,
   "metadata": {},
   "outputs": [],
   "source": [
    "model_random = RandomizedSearchCV(estimator=model, param_distributions=random_grid,\n",
    "                                  n_iter=100, cv=3, verbose=2, random_state=0, n_jobs=-1)"
   ]
  },
  {
   "cell_type": "markdown",
   "metadata": {},
   "source": [
    "More n_iter will cover a wider search space and more cv folds reduces the chances of overfitting\n",
    "<br>\n",
    "Fit the random search model"
   ]
  },
  {
   "cell_type": "code",
   "execution_count": 17,
   "metadata": {},
   "outputs": [
    {
     "name": "stdout",
     "output_type": "stream",
     "text": [
      "Fitting 3 folds for each of 100 candidates, totalling 300 fits\n"
     ]
    },
    {
     "name": "stderr",
     "output_type": "stream",
     "text": [
      "/Users/niloofarzarifi/anaconda2/lib/python2.7/site-packages/sklearn/model_selection/_split.py:605: Warning: The least populated class in y has only 1 members, which is too few. The minimum number of members in any class cannot be less than n_splits=3.\n",
      "  % (min_groups, self.n_splits)), Warning)\n"
     ]
    },
    {
     "name": "stdout",
     "output_type": "stream",
     "text": [
      "[CV] bootstrap=True, min_samples_leaf=10, n_estimators=11, min_samples_split=30, max_features=sqrt, max_depth=10 \n",
      "[CV] bootstrap=True, min_samples_leaf=10, n_estimators=11, min_samples_split=30, max_features=sqrt, max_depth=10 \n",
      "[CV] bootstrap=True, min_samples_leaf=10, n_estimators=11, min_samples_split=30, max_features=sqrt, max_depth=10 \n",
      "[CV] bootstrap=False, min_samples_leaf=15, n_estimators=11, min_samples_split=10, max_features=auto, max_depth=20 \n",
      "[CV]  bootstrap=True, min_samples_leaf=10, n_estimators=11, min_samples_split=30, max_features=sqrt, max_depth=10, total=   0.7s\n",
      "[CV]  bootstrap=True, min_samples_leaf=10, n_estimators=11, min_samples_split=30, max_features=sqrt, max_depth=10, total=   0.8s\n",
      "[CV]  bootstrap=True, min_samples_leaf=10, n_estimators=11, min_samples_split=30, max_features=sqrt, max_depth=10, total=   0.8s\n",
      "[CV]  bootstrap=False, min_samples_leaf=15, n_estimators=11, min_samples_split=10, max_features=auto, max_depth=20, total=   0.8s\n",
      "[CV] bootstrap=False, min_samples_leaf=15, n_estimators=11, min_samples_split=10, max_features=auto, max_depth=20 \n",
      "[CV] bootstrap=False, min_samples_leaf=15, n_estimators=11, min_samples_split=10, max_features=auto, max_depth=20 \n",
      "[CV] bootstrap=False, min_samples_leaf=15, n_estimators=25, min_samples_split=30, max_features=auto, max_depth=30 \n",
      "[CV] bootstrap=False, min_samples_leaf=15, n_estimators=25, min_samples_split=30, max_features=auto, max_depth=30 \n",
      "[CV]  bootstrap=False, min_samples_leaf=15, n_estimators=11, min_samples_split=10, max_features=auto, max_depth=20, total=   0.4s\n",
      "[CV] bootstrap=False, min_samples_leaf=15, n_estimators=25, min_samples_split=30, max_features=auto, max_depth=30 \n",
      "[CV]  bootstrap=False, min_samples_leaf=15, n_estimators=11, min_samples_split=10, max_features=auto, max_depth=20, total=   0.9s\n",
      "[CV] bootstrap=True, min_samples_leaf=5, n_estimators=25, min_samples_split=20, max_features=sqrt, max_depth=30 \n",
      "[CV]  bootstrap=False, min_samples_leaf=15, n_estimators=25, min_samples_split=30, max_features=auto, max_depth=30, total=   1.7s\n",
      "[CV] bootstrap=True, min_samples_leaf=5, n_estimators=25, min_samples_split=20, max_features=sqrt, max_depth=30 \n",
      "[CV]  bootstrap=False, min_samples_leaf=15, n_estimators=25, min_samples_split=30, max_features=auto, max_depth=30, total=   1.6s\n",
      "[CV] bootstrap=True, min_samples_leaf=5, n_estimators=25, min_samples_split=20, max_features=sqrt, max_depth=30 \n",
      "[CV]  bootstrap=False, min_samples_leaf=15, n_estimators=25, min_samples_split=30, max_features=auto, max_depth=30, total=   1.5s\n",
      "[CV] bootstrap=True, min_samples_leaf=5, n_estimators=10, min_samples_split=20, max_features=sqrt, max_depth=20 \n",
      "[CV]  bootstrap=True, min_samples_leaf=5, n_estimators=25, min_samples_split=20, max_features=sqrt, max_depth=30, total=   1.3s\n",
      "[CV] bootstrap=True, min_samples_leaf=5, n_estimators=10, min_samples_split=20, max_features=sqrt, max_depth=20 \n",
      "[CV]  bootstrap=True, min_samples_leaf=5, n_estimators=10, min_samples_split=20, max_features=sqrt, max_depth=20, total=   0.5s\n",
      "[CV] bootstrap=True, min_samples_leaf=5, n_estimators=10, min_samples_split=20, max_features=sqrt, max_depth=20 \n",
      "[CV]  bootstrap=True, min_samples_leaf=5, n_estimators=10, min_samples_split=20, max_features=sqrt, max_depth=20, total=   0.5s\n",
      "[CV] bootstrap=False, min_samples_leaf=15, n_estimators=11, min_samples_split=30, max_features=sqrt, max_depth=20 \n",
      "[CV]  bootstrap=True, min_samples_leaf=5, n_estimators=10, min_samples_split=20, max_features=sqrt, max_depth=20, total=   0.6s\n",
      "[CV] bootstrap=False, min_samples_leaf=15, n_estimators=11, min_samples_split=30, max_features=sqrt, max_depth=20 \n",
      "[CV]  bootstrap=True, min_samples_leaf=5, n_estimators=25, min_samples_split=20, max_features=sqrt, max_depth=30, total=   1.4s\n",
      "[CV] bootstrap=False, min_samples_leaf=15, n_estimators=11, min_samples_split=30, max_features=sqrt, max_depth=20 \n",
      "[CV]  bootstrap=True, min_samples_leaf=5, n_estimators=25, min_samples_split=20, max_features=sqrt, max_depth=30, total=   1.3s\n",
      "[CV] bootstrap=False, min_samples_leaf=5, n_estimators=10, min_samples_split=10, max_features=sqrt, max_depth=30 \n",
      "[CV]  bootstrap=False, min_samples_leaf=15, n_estimators=11, min_samples_split=30, max_features=sqrt, max_depth=20, total=   0.8s\n",
      "[CV] bootstrap=False, min_samples_leaf=5, n_estimators=10, min_samples_split=10, max_features=sqrt, max_depth=30 \n",
      "[CV]  bootstrap=False, min_samples_leaf=15, n_estimators=11, min_samples_split=30, max_features=sqrt, max_depth=20, total=   0.8s\n",
      "[CV] bootstrap=False, min_samples_leaf=5, n_estimators=10, min_samples_split=10, max_features=sqrt, max_depth=30 \n",
      "[CV]  bootstrap=False, min_samples_leaf=15, n_estimators=11, min_samples_split=30, max_features=sqrt, max_depth=20, total=   0.8s\n",
      "[CV] bootstrap=True, min_samples_leaf=5, n_estimators=15, min_samples_split=30, max_features=sqrt, max_depth=30 \n",
      "[CV]  bootstrap=False, min_samples_leaf=5, n_estimators=10, min_samples_split=10, max_features=sqrt, max_depth=30, total=   0.8s\n",
      "[CV] bootstrap=True, min_samples_leaf=5, n_estimators=15, min_samples_split=30, max_features=sqrt, max_depth=30 \n",
      "[CV]  bootstrap=False, min_samples_leaf=5, n_estimators=10, min_samples_split=10, max_features=sqrt, max_depth=30, total=   0.9s\n",
      "[CV] bootstrap=True, min_samples_leaf=5, n_estimators=15, min_samples_split=30, max_features=sqrt, max_depth=30 \n",
      "[CV]  bootstrap=False, min_samples_leaf=5, n_estimators=10, min_samples_split=10, max_features=sqrt, max_depth=30, total=   0.9s\n",
      "[CV] bootstrap=False, min_samples_leaf=10, n_estimators=12, min_samples_split=20, max_features=auto, max_depth=20 \n",
      "[CV]  bootstrap=True, min_samples_leaf=5, n_estimators=15, min_samples_split=30, max_features=sqrt, max_depth=30, total=   0.9s\n",
      "[CV] bootstrap=False, min_samples_leaf=10, n_estimators=12, min_samples_split=20, max_features=auto, max_depth=20 \n",
      "[CV]  bootstrap=True, min_samples_leaf=5, n_estimators=15, min_samples_split=30, max_features=sqrt, max_depth=30, total=   0.8s\n",
      "[CV] bootstrap=False, min_samples_leaf=10, n_estimators=12, min_samples_split=20, max_features=auto, max_depth=20 \n",
      "[CV]  bootstrap=True, min_samples_leaf=5, n_estimators=15, min_samples_split=30, max_features=sqrt, max_depth=30, total=   0.9s\n",
      "[CV] bootstrap=True, min_samples_leaf=10, n_estimators=10, min_samples_split=30, max_features=sqrt, max_depth=30 \n",
      "[CV]  bootstrap=False, min_samples_leaf=10, n_estimators=12, min_samples_split=20, max_features=auto, max_depth=20, total=   0.8s\n",
      "[CV] bootstrap=True, min_samples_leaf=10, n_estimators=10, min_samples_split=30, max_features=sqrt, max_depth=30 \n",
      "[CV]  bootstrap=False, min_samples_leaf=10, n_estimators=12, min_samples_split=20, max_features=auto, max_depth=20, total=   0.8s\n",
      "[CV] bootstrap=True, min_samples_leaf=10, n_estimators=10, min_samples_split=30, max_features=sqrt, max_depth=30 \n",
      "[CV]  bootstrap=False, min_samples_leaf=10, n_estimators=12, min_samples_split=20, max_features=auto, max_depth=20, total=   0.8s\n",
      "[CV] bootstrap=False, min_samples_leaf=15, n_estimators=12, min_samples_split=30, max_features=auto, max_depth=30 \n",
      "[CV]  bootstrap=True, min_samples_leaf=10, n_estimators=10, min_samples_split=30, max_features=sqrt, max_depth=30, total=   0.6s\n",
      "[CV] bootstrap=False, min_samples_leaf=15, n_estimators=12, min_samples_split=30, max_features=auto, max_depth=30 \n",
      "[CV]  bootstrap=True, min_samples_leaf=10, n_estimators=10, min_samples_split=30, max_features=sqrt, max_depth=30, total=   0.7s\n",
      "[CV] bootstrap=False, min_samples_leaf=15, n_estimators=12, min_samples_split=30, max_features=auto, max_depth=30 \n",
      "[CV]  bootstrap=True, min_samples_leaf=10, n_estimators=10, min_samples_split=30, max_features=sqrt, max_depth=30, total=   0.7s\n",
      "[CV] bootstrap=False, min_samples_leaf=10, n_estimators=25, min_samples_split=30, max_features=auto, max_depth=10 \n",
      "[CV]  bootstrap=False, min_samples_leaf=15, n_estimators=12, min_samples_split=30, max_features=auto, max_depth=30, total=   0.9s\n",
      "[CV] bootstrap=False, min_samples_leaf=10, n_estimators=25, min_samples_split=30, max_features=auto, max_depth=10 \n",
      "[CV]  bootstrap=False, min_samples_leaf=15, n_estimators=12, min_samples_split=30, max_features=auto, max_depth=30, total=   0.9s\n",
      "[CV] bootstrap=False, min_samples_leaf=10, n_estimators=25, min_samples_split=30, max_features=auto, max_depth=10 \n"
     ]
    },
    {
     "name": "stdout",
     "output_type": "stream",
     "text": [
      "[CV]  bootstrap=False, min_samples_leaf=15, n_estimators=12, min_samples_split=30, max_features=auto, max_depth=30, total=   0.8s\n",
      "[CV] bootstrap=True, min_samples_leaf=5, n_estimators=10, min_samples_split=10, max_features=sqrt, max_depth=10 \n"
     ]
    },
    {
     "name": "stderr",
     "output_type": "stream",
     "text": [
      "[Parallel(n_jobs=-1)]: Done  33 tasks      | elapsed:   10.0s\n"
     ]
    },
    {
     "name": "stdout",
     "output_type": "stream",
     "text": [
      "[CV]  bootstrap=False, min_samples_leaf=10, n_estimators=25, min_samples_split=30, max_features=auto, max_depth=10, total=   1.0s\n",
      "[CV]  bootstrap=True, min_samples_leaf=5, n_estimators=10, min_samples_split=10, max_features=sqrt, max_depth=10, total=   0.3s\n",
      "[CV] bootstrap=True, min_samples_leaf=5, n_estimators=10, min_samples_split=10, max_features=sqrt, max_depth=10 \n",
      "[CV] bootstrap=True, min_samples_leaf=5, n_estimators=10, min_samples_split=10, max_features=sqrt, max_depth=10 \n",
      "[CV]  bootstrap=False, min_samples_leaf=10, n_estimators=25, min_samples_split=30, max_features=auto, max_depth=10, total=   1.0s\n",
      "[CV] bootstrap=False, min_samples_leaf=10, n_estimators=12, min_samples_split=30, max_features=auto, max_depth=30 \n",
      "[CV]  bootstrap=False, min_samples_leaf=10, n_estimators=25, min_samples_split=30, max_features=auto, max_depth=10, total=   1.0s\n",
      "[CV] bootstrap=False, min_samples_leaf=10, n_estimators=12, min_samples_split=30, max_features=auto, max_depth=30 \n",
      "[CV]  bootstrap=True, min_samples_leaf=5, n_estimators=10, min_samples_split=10, max_features=sqrt, max_depth=10, total=   0.4s\n",
      "[CV] bootstrap=False, min_samples_leaf=10, n_estimators=12, min_samples_split=30, max_features=auto, max_depth=30 \n",
      "[CV]  bootstrap=True, min_samples_leaf=5, n_estimators=10, min_samples_split=10, max_features=sqrt, max_depth=10, total=   0.4s\n",
      "[CV] bootstrap=False, min_samples_leaf=5, n_estimators=11, min_samples_split=10, max_features=sqrt, max_depth=10 \n",
      "[CV]  bootstrap=False, min_samples_leaf=10, n_estimators=12, min_samples_split=30, max_features=auto, max_depth=30, total=   0.7s\n",
      "[CV] bootstrap=False, min_samples_leaf=5, n_estimators=11, min_samples_split=10, max_features=sqrt, max_depth=10 \n",
      "[CV]  bootstrap=False, min_samples_leaf=5, n_estimators=11, min_samples_split=10, max_features=sqrt, max_depth=10, total=   0.4s\n",
      "[CV] bootstrap=False, min_samples_leaf=5, n_estimators=11, min_samples_split=10, max_features=sqrt, max_depth=10 \n",
      "[CV]  bootstrap=False, min_samples_leaf=10, n_estimators=12, min_samples_split=30, max_features=auto, max_depth=30, total=   0.8s\n",
      "[CV] bootstrap=False, min_samples_leaf=15, n_estimators=25, min_samples_split=10, max_features=auto, max_depth=20 \n",
      "[CV]  bootstrap=False, min_samples_leaf=10, n_estimators=12, min_samples_split=30, max_features=auto, max_depth=30, total=   0.8s\n",
      "[CV] bootstrap=False, min_samples_leaf=15, n_estimators=25, min_samples_split=10, max_features=auto, max_depth=20 \n",
      "[CV]  bootstrap=False, min_samples_leaf=5, n_estimators=11, min_samples_split=10, max_features=sqrt, max_depth=10, total=   0.5s\n",
      "[CV] bootstrap=False, min_samples_leaf=15, n_estimators=25, min_samples_split=10, max_features=auto, max_depth=20 \n",
      "[CV]  bootstrap=False, min_samples_leaf=5, n_estimators=11, min_samples_split=10, max_features=sqrt, max_depth=10, total=   0.5s\n",
      "[CV] bootstrap=False, min_samples_leaf=10, n_estimators=15, min_samples_split=30, max_features=sqrt, max_depth=10 \n",
      "[CV]  bootstrap=False, min_samples_leaf=10, n_estimators=15, min_samples_split=30, max_features=sqrt, max_depth=10, total=   0.5s\n",
      "[CV] bootstrap=False, min_samples_leaf=10, n_estimators=15, min_samples_split=30, max_features=sqrt, max_depth=10 \n",
      "[CV]  bootstrap=False, min_samples_leaf=15, n_estimators=25, min_samples_split=10, max_features=auto, max_depth=20, total=   1.3s\n",
      "[CV] bootstrap=False, min_samples_leaf=10, n_estimators=15, min_samples_split=30, max_features=sqrt, max_depth=10 \n",
      "[CV]  bootstrap=False, min_samples_leaf=15, n_estimators=25, min_samples_split=10, max_features=auto, max_depth=20, total=   1.2s\n",
      "[CV] bootstrap=False, min_samples_leaf=15, n_estimators=11, min_samples_split=10, max_features=sqrt, max_depth=10 \n",
      "[CV]  bootstrap=False, min_samples_leaf=15, n_estimators=25, min_samples_split=10, max_features=auto, max_depth=20, total=   1.3s\n",
      "[CV] bootstrap=False, min_samples_leaf=15, n_estimators=11, min_samples_split=10, max_features=sqrt, max_depth=10 \n",
      "[CV]  bootstrap=False, min_samples_leaf=10, n_estimators=15, min_samples_split=30, max_features=sqrt, max_depth=10, total=   0.6s\n",
      "[CV] bootstrap=False, min_samples_leaf=15, n_estimators=11, min_samples_split=10, max_features=sqrt, max_depth=10 \n",
      "[CV]  bootstrap=False, min_samples_leaf=10, n_estimators=15, min_samples_split=30, max_features=sqrt, max_depth=10, total=   0.7s\n",
      "[CV] bootstrap=False, min_samples_leaf=10, n_estimators=10, min_samples_split=30, max_features=sqrt, max_depth=30 \n",
      "[CV]  bootstrap=False, min_samples_leaf=15, n_estimators=11, min_samples_split=10, max_features=sqrt, max_depth=10, total=   0.5s\n",
      "[CV] bootstrap=False, min_samples_leaf=10, n_estimators=10, min_samples_split=30, max_features=sqrt, max_depth=30 \n",
      "[CV]  bootstrap=False, min_samples_leaf=15, n_estimators=11, min_samples_split=10, max_features=sqrt, max_depth=10, total=   0.5s\n",
      "[CV] bootstrap=False, min_samples_leaf=10, n_estimators=10, min_samples_split=30, max_features=sqrt, max_depth=30 \n",
      "[CV]  bootstrap=False, min_samples_leaf=15, n_estimators=11, min_samples_split=10, max_features=sqrt, max_depth=10, total=   0.5s\n",
      "[CV] bootstrap=True, min_samples_leaf=10, n_estimators=12, min_samples_split=30, max_features=sqrt, max_depth=30 \n",
      "[CV]  bootstrap=False, min_samples_leaf=10, n_estimators=10, min_samples_split=30, max_features=sqrt, max_depth=30, total=   0.8s\n",
      "[CV]  bootstrap=False, min_samples_leaf=10, n_estimators=10, min_samples_split=30, max_features=sqrt, max_depth=30, total=   0.7s\n",
      "[CV] bootstrap=True, min_samples_leaf=10, n_estimators=12, min_samples_split=30, max_features=sqrt, max_depth=30 \n",
      "[CV] bootstrap=True, min_samples_leaf=10, n_estimators=12, min_samples_split=30, max_features=sqrt, max_depth=30 \n",
      "[CV]  bootstrap=False, min_samples_leaf=10, n_estimators=10, min_samples_split=30, max_features=sqrt, max_depth=30, total=   0.6s\n",
      "[CV] bootstrap=True, min_samples_leaf=10, n_estimators=25, min_samples_split=10, max_features=sqrt, max_depth=30 \n",
      "[CV]  bootstrap=True, min_samples_leaf=10, n_estimators=12, min_samples_split=30, max_features=sqrt, max_depth=30, total=   0.5s\n",
      "[CV] bootstrap=True, min_samples_leaf=10, n_estimators=25, min_samples_split=10, max_features=sqrt, max_depth=30 \n",
      "[CV]  bootstrap=True, min_samples_leaf=10, n_estimators=12, min_samples_split=30, max_features=sqrt, max_depth=30, total=   0.6s\n",
      "[CV] bootstrap=True, min_samples_leaf=10, n_estimators=25, min_samples_split=10, max_features=sqrt, max_depth=30 \n",
      "[CV]  bootstrap=True, min_samples_leaf=10, n_estimators=12, min_samples_split=30, max_features=sqrt, max_depth=30, total=   0.6s\n",
      "[CV] bootstrap=False, min_samples_leaf=15, n_estimators=10, min_samples_split=30, max_features=auto, max_depth=10 \n",
      "[CV]  bootstrap=False, min_samples_leaf=15, n_estimators=10, min_samples_split=30, max_features=auto, max_depth=10, total=   0.4s\n",
      "[CV] bootstrap=False, min_samples_leaf=15, n_estimators=10, min_samples_split=30, max_features=auto, max_depth=10 \n",
      "[CV]  bootstrap=True, min_samples_leaf=10, n_estimators=25, min_samples_split=10, max_features=sqrt, max_depth=30, total=   1.1s\n",
      "[CV] bootstrap=False, min_samples_leaf=15, n_estimators=10, min_samples_split=30, max_features=auto, max_depth=10 \n",
      "[CV]  bootstrap=True, min_samples_leaf=10, n_estimators=25, min_samples_split=10, max_features=sqrt, max_depth=30, total=   1.1s\n",
      "[CV] bootstrap=False, min_samples_leaf=5, n_estimators=25, min_samples_split=10, max_features=auto, max_depth=30 \n",
      "[CV]  bootstrap=False, min_samples_leaf=15, n_estimators=10, min_samples_split=30, max_features=auto, max_depth=10, total=   0.5s\n",
      "[CV] bootstrap=False, min_samples_leaf=5, n_estimators=25, min_samples_split=10, max_features=auto, max_depth=30 \n",
      "[CV]  bootstrap=False, min_samples_leaf=15, n_estimators=10, min_samples_split=30, max_features=auto, max_depth=10, total=   0.4s\n",
      "[CV] bootstrap=False, min_samples_leaf=5, n_estimators=25, min_samples_split=10, max_features=auto, max_depth=30 \n",
      "[CV]  bootstrap=True, min_samples_leaf=10, n_estimators=25, min_samples_split=10, max_features=sqrt, max_depth=30, total=   1.2s\n",
      "[CV] bootstrap=True, min_samples_leaf=5, n_estimators=12, min_samples_split=30, max_features=auto, max_depth=20 \n",
      "[CV]  bootstrap=True, min_samples_leaf=5, n_estimators=12, min_samples_split=30, max_features=auto, max_depth=20, total=   0.5s\n",
      "[CV] bootstrap=True, min_samples_leaf=5, n_estimators=12, min_samples_split=30, max_features=auto, max_depth=20 \n"
     ]
    },
    {
     "name": "stdout",
     "output_type": "stream",
     "text": [
      "[CV]  bootstrap=True, min_samples_leaf=5, n_estimators=12, min_samples_split=30, max_features=auto, max_depth=20, total=   0.5s\n",
      "[CV] bootstrap=True, min_samples_leaf=5, n_estimators=12, min_samples_split=30, max_features=auto, max_depth=20 \n",
      "[CV]  bootstrap=False, min_samples_leaf=5, n_estimators=25, min_samples_split=10, max_features=auto, max_depth=30, total=   1.6s\n",
      "[CV] bootstrap=False, min_samples_leaf=5, n_estimators=10, min_samples_split=30, max_features=sqrt, max_depth=20 \n",
      "[CV]  bootstrap=False, min_samples_leaf=5, n_estimators=25, min_samples_split=10, max_features=auto, max_depth=30, total=   1.6s\n",
      "[CV] bootstrap=False, min_samples_leaf=5, n_estimators=10, min_samples_split=30, max_features=sqrt, max_depth=20 \n",
      "[CV]  bootstrap=False, min_samples_leaf=5, n_estimators=25, min_samples_split=10, max_features=auto, max_depth=30, total=   1.6s\n",
      "[CV] bootstrap=False, min_samples_leaf=5, n_estimators=10, min_samples_split=30, max_features=sqrt, max_depth=20 \n",
      "[CV]  bootstrap=True, min_samples_leaf=5, n_estimators=12, min_samples_split=30, max_features=auto, max_depth=20, total=   0.6s\n",
      "[CV] bootstrap=True, min_samples_leaf=15, n_estimators=10, min_samples_split=10, max_features=sqrt, max_depth=20 \n",
      "[CV]  bootstrap=False, min_samples_leaf=5, n_estimators=10, min_samples_split=30, max_features=sqrt, max_depth=20, total=   0.5s\n",
      "[CV] bootstrap=True, min_samples_leaf=15, n_estimators=10, min_samples_split=10, max_features=sqrt, max_depth=20 \n",
      "[CV]  bootstrap=False, min_samples_leaf=5, n_estimators=10, min_samples_split=30, max_features=sqrt, max_depth=20, total=   0.6s\n",
      "[CV] bootstrap=True, min_samples_leaf=15, n_estimators=10, min_samples_split=10, max_features=sqrt, max_depth=20 \n",
      "[CV]  bootstrap=False, min_samples_leaf=5, n_estimators=10, min_samples_split=30, max_features=sqrt, max_depth=20, total=   0.6s\n",
      "[CV] bootstrap=False, min_samples_leaf=15, n_estimators=25, min_samples_split=20, max_features=sqrt, max_depth=20 \n",
      "[CV]  bootstrap=True, min_samples_leaf=15, n_estimators=10, min_samples_split=10, max_features=sqrt, max_depth=20, total=   0.5s\n",
      "[CV]  bootstrap=True, min_samples_leaf=15, n_estimators=10, min_samples_split=10, max_features=sqrt, max_depth=20, total=   0.5s\n",
      "[CV] bootstrap=False, min_samples_leaf=15, n_estimators=25, min_samples_split=20, max_features=sqrt, max_depth=20 \n",
      "[CV] bootstrap=False, min_samples_leaf=15, n_estimators=25, min_samples_split=20, max_features=sqrt, max_depth=20 \n",
      "[CV]  bootstrap=True, min_samples_leaf=15, n_estimators=10, min_samples_split=10, max_features=sqrt, max_depth=20, total=   0.5s\n",
      "[CV] bootstrap=False, min_samples_leaf=10, n_estimators=12, min_samples_split=10, max_features=sqrt, max_depth=20 \n",
      "[CV]  bootstrap=False, min_samples_leaf=10, n_estimators=12, min_samples_split=10, max_features=sqrt, max_depth=20, total=   0.6s\n",
      "[CV] bootstrap=False, min_samples_leaf=10, n_estimators=12, min_samples_split=10, max_features=sqrt, max_depth=20 \n",
      "[CV]  bootstrap=False, min_samples_leaf=15, n_estimators=25, min_samples_split=20, max_features=sqrt, max_depth=20, total=   1.1s\n",
      "[CV] bootstrap=False, min_samples_leaf=10, n_estimators=12, min_samples_split=10, max_features=sqrt, max_depth=20 \n",
      "[CV]  bootstrap=False, min_samples_leaf=15, n_estimators=25, min_samples_split=20, max_features=sqrt, max_depth=20, total=   1.2s\n",
      "[CV]  bootstrap=False, min_samples_leaf=15, n_estimators=25, min_samples_split=20, max_features=sqrt, max_depth=20, total=   1.1s\n",
      "[CV] bootstrap=True, min_samples_leaf=15, n_estimators=25, min_samples_split=10, max_features=auto, max_depth=30 \n",
      "[CV] bootstrap=True, min_samples_leaf=15, n_estimators=25, min_samples_split=10, max_features=auto, max_depth=30 \n",
      "[CV]  bootstrap=False, min_samples_leaf=10, n_estimators=12, min_samples_split=10, max_features=sqrt, max_depth=20, total=   0.7s\n",
      "[CV] bootstrap=True, min_samples_leaf=15, n_estimators=25, min_samples_split=10, max_features=auto, max_depth=30 \n",
      "[CV]  bootstrap=False, min_samples_leaf=10, n_estimators=12, min_samples_split=10, max_features=sqrt, max_depth=20, total=   0.7s\n",
      "[CV] bootstrap=True, min_samples_leaf=5, n_estimators=25, min_samples_split=30, max_features=auto, max_depth=20 \n",
      "[CV]  bootstrap=True, min_samples_leaf=15, n_estimators=25, min_samples_split=10, max_features=auto, max_depth=30, total=   1.0s\n",
      "[CV]  bootstrap=True, min_samples_leaf=15, n_estimators=25, min_samples_split=10, max_features=auto, max_depth=30, total=   1.0s\n",
      "[CV] bootstrap=True, min_samples_leaf=5, n_estimators=25, min_samples_split=30, max_features=auto, max_depth=20 \n",
      "[CV] bootstrap=True, min_samples_leaf=5, n_estimators=25, min_samples_split=30, max_features=auto, max_depth=20 \n",
      "[CV]  bootstrap=True, min_samples_leaf=15, n_estimators=25, min_samples_split=10, max_features=auto, max_depth=30, total=   1.1s\n",
      "[CV]  bootstrap=True, min_samples_leaf=5, n_estimators=25, min_samples_split=30, max_features=auto, max_depth=20, total=   0.9s\n",
      "[CV] bootstrap=True, min_samples_leaf=15, n_estimators=10, min_samples_split=30, max_features=sqrt, max_depth=10 \n",
      "[CV] bootstrap=True, min_samples_leaf=15, n_estimators=10, min_samples_split=30, max_features=sqrt, max_depth=10 \n",
      "[CV]  bootstrap=True, min_samples_leaf=15, n_estimators=10, min_samples_split=30, max_features=sqrt, max_depth=10, total=   0.4s\n",
      "[CV] bootstrap=True, min_samples_leaf=15, n_estimators=10, min_samples_split=30, max_features=sqrt, max_depth=10 \n",
      "[CV]  bootstrap=True, min_samples_leaf=15, n_estimators=10, min_samples_split=30, max_features=sqrt, max_depth=10, total=   0.3s\n",
      "[CV] bootstrap=False, min_samples_leaf=5, n_estimators=10, min_samples_split=20, max_features=auto, max_depth=20 \n",
      "[CV]  bootstrap=True, min_samples_leaf=5, n_estimators=25, min_samples_split=30, max_features=auto, max_depth=20, total=   1.0s\n",
      "[CV]  bootstrap=True, min_samples_leaf=5, n_estimators=25, min_samples_split=30, max_features=auto, max_depth=20, total=   1.0s\n",
      "[CV] bootstrap=False, min_samples_leaf=5, n_estimators=10, min_samples_split=20, max_features=auto, max_depth=20 \n",
      "[CV] bootstrap=False, min_samples_leaf=5, n_estimators=10, min_samples_split=20, max_features=auto, max_depth=20 \n",
      "[CV]  bootstrap=True, min_samples_leaf=15, n_estimators=10, min_samples_split=30, max_features=sqrt, max_depth=10, total=   0.5s\n",
      "[CV] bootstrap=True, min_samples_leaf=10, n_estimators=10, min_samples_split=10, max_features=auto, max_depth=10 \n",
      "[CV]  bootstrap=False, min_samples_leaf=5, n_estimators=10, min_samples_split=20, max_features=auto, max_depth=20, total=   0.7s\n",
      "[CV] bootstrap=True, min_samples_leaf=10, n_estimators=10, min_samples_split=10, max_features=auto, max_depth=10 \n",
      "[CV]  bootstrap=True, min_samples_leaf=10, n_estimators=10, min_samples_split=10, max_features=auto, max_depth=10, total=   0.4s\n",
      "[CV] bootstrap=True, min_samples_leaf=10, n_estimators=10, min_samples_split=10, max_features=auto, max_depth=10 \n",
      "[CV]  bootstrap=False, min_samples_leaf=5, n_estimators=10, min_samples_split=20, max_features=auto, max_depth=20, total=   0.7s\n",
      "[CV]  bootstrap=False, min_samples_leaf=5, n_estimators=10, min_samples_split=20, max_features=auto, max_depth=20, total=   0.6s\n",
      "[CV] bootstrap=True, min_samples_leaf=10, n_estimators=25, min_samples_split=10, max_features=sqrt, max_depth=20 \n",
      "[CV] bootstrap=True, min_samples_leaf=10, n_estimators=25, min_samples_split=10, max_features=sqrt, max_depth=20 \n",
      "[CV]  bootstrap=True, min_samples_leaf=10, n_estimators=10, min_samples_split=10, max_features=auto, max_depth=10, total=   0.6s\n",
      "[CV] bootstrap=True, min_samples_leaf=10, n_estimators=25, min_samples_split=10, max_features=sqrt, max_depth=20 \n",
      "[CV]  bootstrap=True, min_samples_leaf=10, n_estimators=10, min_samples_split=10, max_features=auto, max_depth=10, total=   0.5s\n",
      "[CV] bootstrap=True, min_samples_leaf=15, n_estimators=25, min_samples_split=30, max_features=sqrt, max_depth=30 \n",
      "[CV]  bootstrap=True, min_samples_leaf=10, n_estimators=25, min_samples_split=10, max_features=sqrt, max_depth=20, total=   1.3s\n",
      "[CV] bootstrap=True, min_samples_leaf=15, n_estimators=25, min_samples_split=30, max_features=sqrt, max_depth=30 \n",
      "[CV]  bootstrap=True, min_samples_leaf=10, n_estimators=25, min_samples_split=10, max_features=sqrt, max_depth=20, total=   1.3s\n",
      "[CV] bootstrap=True, min_samples_leaf=15, n_estimators=25, min_samples_split=30, max_features=sqrt, max_depth=30 \n"
     ]
    },
    {
     "name": "stdout",
     "output_type": "stream",
     "text": [
      "[CV]  bootstrap=True, min_samples_leaf=10, n_estimators=25, min_samples_split=10, max_features=sqrt, max_depth=20, total=   1.7s\n",
      "[CV] bootstrap=True, min_samples_leaf=5, n_estimators=11, min_samples_split=20, max_features=auto, max_depth=20 \n",
      "[CV]  bootstrap=True, min_samples_leaf=15, n_estimators=25, min_samples_split=30, max_features=sqrt, max_depth=30, total=   1.7s\n",
      "[CV] bootstrap=True, min_samples_leaf=5, n_estimators=11, min_samples_split=20, max_features=auto, max_depth=20 \n",
      "[CV]  bootstrap=True, min_samples_leaf=5, n_estimators=11, min_samples_split=20, max_features=auto, max_depth=20, total=   0.7s\n",
      "[CV] bootstrap=True, min_samples_leaf=5, n_estimators=11, min_samples_split=20, max_features=auto, max_depth=20 \n",
      "[CV]  bootstrap=True, min_samples_leaf=5, n_estimators=11, min_samples_split=20, max_features=auto, max_depth=20, total=   0.7s\n",
      "[CV] bootstrap=True, min_samples_leaf=10, n_estimators=12, min_samples_split=10, max_features=auto, max_depth=10 \n",
      "[CV]  bootstrap=True, min_samples_leaf=15, n_estimators=25, min_samples_split=30, max_features=sqrt, max_depth=30, total=   1.5s\n",
      "[CV] bootstrap=True, min_samples_leaf=10, n_estimators=12, min_samples_split=10, max_features=auto, max_depth=10 \n",
      "[CV]  bootstrap=True, min_samples_leaf=15, n_estimators=25, min_samples_split=30, max_features=sqrt, max_depth=30, total=   1.3s\n",
      "[CV] bootstrap=True, min_samples_leaf=10, n_estimators=12, min_samples_split=10, max_features=auto, max_depth=10 \n",
      "[CV]  bootstrap=True, min_samples_leaf=5, n_estimators=11, min_samples_split=20, max_features=auto, max_depth=20, total=   0.7s\n",
      "[CV]  bootstrap=True, min_samples_leaf=10, n_estimators=12, min_samples_split=10, max_features=auto, max_depth=10, total=   0.5s\n",
      "[CV]  bootstrap=True, min_samples_leaf=10, n_estimators=12, min_samples_split=10, max_features=auto, max_depth=10, total=   0.5s\n",
      "[CV] bootstrap=False, min_samples_leaf=15, n_estimators=12, min_samples_split=10, max_features=auto, max_depth=10 \n",
      "[CV]  bootstrap=True, min_samples_leaf=10, n_estimators=12, min_samples_split=10, max_features=auto, max_depth=10, total=   0.6s\n",
      "[CV] bootstrap=False, min_samples_leaf=15, n_estimators=12, min_samples_split=10, max_features=auto, max_depth=10 \n",
      "[CV] bootstrap=False, min_samples_leaf=15, n_estimators=12, min_samples_split=10, max_features=auto, max_depth=10 \n",
      "[CV] bootstrap=True, min_samples_leaf=15, n_estimators=15, min_samples_split=30, max_features=auto, max_depth=20 \n",
      "[CV]  bootstrap=False, min_samples_leaf=15, n_estimators=12, min_samples_split=10, max_features=auto, max_depth=10, total=   0.5s\n",
      "[CV] bootstrap=True, min_samples_leaf=15, n_estimators=15, min_samples_split=30, max_features=auto, max_depth=20 \n",
      "[CV]  bootstrap=False, min_samples_leaf=15, n_estimators=12, min_samples_split=10, max_features=auto, max_depth=10, total=   0.5s\n",
      "[CV] bootstrap=True, min_samples_leaf=15, n_estimators=15, min_samples_split=30, max_features=auto, max_depth=20 \n",
      "[CV]  bootstrap=False, min_samples_leaf=15, n_estimators=12, min_samples_split=10, max_features=auto, max_depth=10, total=   0.5s\n",
      "[CV] bootstrap=False, min_samples_leaf=10, n_estimators=10, min_samples_split=10, max_features=auto, max_depth=30 \n",
      "[CV]  bootstrap=True, min_samples_leaf=15, n_estimators=15, min_samples_split=30, max_features=auto, max_depth=20, total=   0.7s\n",
      "[CV] bootstrap=False, min_samples_leaf=10, n_estimators=10, min_samples_split=10, max_features=auto, max_depth=30 \n",
      "[CV]  bootstrap=True, min_samples_leaf=15, n_estimators=15, min_samples_split=30, max_features=auto, max_depth=20, total=   0.8s\n",
      "[CV] bootstrap=False, min_samples_leaf=10, n_estimators=10, min_samples_split=10, max_features=auto, max_depth=30 \n",
      "[CV]  bootstrap=True, min_samples_leaf=15, n_estimators=15, min_samples_split=30, max_features=auto, max_depth=20, total=   0.7s\n",
      "[CV] bootstrap=True, min_samples_leaf=5, n_estimators=12, min_samples_split=20, max_features=sqrt, max_depth=20 \n",
      "[CV]  bootstrap=False, min_samples_leaf=10, n_estimators=10, min_samples_split=10, max_features=auto, max_depth=30, total=   0.7s\n",
      "[CV] bootstrap=True, min_samples_leaf=5, n_estimators=12, min_samples_split=20, max_features=sqrt, max_depth=20 \n",
      "[CV]  bootstrap=False, min_samples_leaf=10, n_estimators=10, min_samples_split=10, max_features=auto, max_depth=30, total=   0.8s\n",
      "[CV] bootstrap=True, min_samples_leaf=5, n_estimators=12, min_samples_split=20, max_features=sqrt, max_depth=20 \n",
      "[CV]  bootstrap=True, min_samples_leaf=5, n_estimators=12, min_samples_split=20, max_features=sqrt, max_depth=20, total=   0.9s\n",
      "[CV]  bootstrap=False, min_samples_leaf=10, n_estimators=10, min_samples_split=10, max_features=auto, max_depth=30, total=   1.0s\n",
      "[CV] bootstrap=False, min_samples_leaf=15, n_estimators=25, min_samples_split=30, max_features=sqrt, max_depth=30 \n",
      "[CV] bootstrap=False, min_samples_leaf=15, n_estimators=25, min_samples_split=30, max_features=sqrt, max_depth=30 \n",
      "[CV]  bootstrap=True, min_samples_leaf=5, n_estimators=12, min_samples_split=20, max_features=sqrt, max_depth=20, total=   0.8s\n",
      "[CV] bootstrap=False, min_samples_leaf=15, n_estimators=25, min_samples_split=30, max_features=sqrt, max_depth=30 \n",
      "[CV]  bootstrap=True, min_samples_leaf=5, n_estimators=12, min_samples_split=20, max_features=sqrt, max_depth=20, total=   0.8s\n",
      "[CV] bootstrap=True, min_samples_leaf=15, n_estimators=10, min_samples_split=30, max_features=sqrt, max_depth=20 \n",
      "[CV]  bootstrap=True, min_samples_leaf=15, n_estimators=10, min_samples_split=30, max_features=sqrt, max_depth=20, total=   0.7s\n",
      "[CV] bootstrap=True, min_samples_leaf=15, n_estimators=10, min_samples_split=30, max_features=sqrt, max_depth=20 \n",
      "[CV]  bootstrap=True, min_samples_leaf=15, n_estimators=10, min_samples_split=30, max_features=sqrt, max_depth=20, total=   0.7s\n",
      "[CV] bootstrap=True, min_samples_leaf=15, n_estimators=10, min_samples_split=30, max_features=sqrt, max_depth=20 \n",
      "[CV]  bootstrap=False, min_samples_leaf=15, n_estimators=25, min_samples_split=30, max_features=sqrt, max_depth=30, total=   2.0s\n",
      "[CV] bootstrap=False, min_samples_leaf=5, n_estimators=12, min_samples_split=20, max_features=auto, max_depth=30 \n",
      "[CV]  bootstrap=False, min_samples_leaf=15, n_estimators=25, min_samples_split=30, max_features=sqrt, max_depth=30, total=   2.0s\n",
      "[CV] bootstrap=False, min_samples_leaf=5, n_estimators=12, min_samples_split=20, max_features=auto, max_depth=30 \n",
      "[CV]  bootstrap=False, min_samples_leaf=15, n_estimators=25, min_samples_split=30, max_features=sqrt, max_depth=30, total=   2.2s\n",
      "[CV] bootstrap=False, min_samples_leaf=5, n_estimators=12, min_samples_split=20, max_features=auto, max_depth=30 \n",
      "[CV]  bootstrap=True, min_samples_leaf=15, n_estimators=10, min_samples_split=30, max_features=sqrt, max_depth=20, total=   0.7s\n",
      "[CV] bootstrap=False, min_samples_leaf=10, n_estimators=10, min_samples_split=10, max_features=auto, max_depth=20 \n",
      "[CV]  bootstrap=False, min_samples_leaf=5, n_estimators=12, min_samples_split=20, max_features=auto, max_depth=30, total=   1.1s\n",
      "[CV] bootstrap=False, min_samples_leaf=10, n_estimators=10, min_samples_split=10, max_features=auto, max_depth=20 \n",
      "[CV]  bootstrap=False, min_samples_leaf=5, n_estimators=12, min_samples_split=20, max_features=auto, max_depth=30, total=   0.9s\n",
      "[CV] bootstrap=False, min_samples_leaf=10, n_estimators=10, min_samples_split=10, max_features=auto, max_depth=20 \n",
      "[CV]  bootstrap=False, min_samples_leaf=10, n_estimators=10, min_samples_split=10, max_features=auto, max_depth=20, total=   0.6s\n",
      "[CV] bootstrap=False, min_samples_leaf=10, n_estimators=11, min_samples_split=30, max_features=sqrt, max_depth=30 \n",
      "[CV]  bootstrap=False, min_samples_leaf=5, n_estimators=12, min_samples_split=20, max_features=auto, max_depth=30, total=   0.9s\n",
      "[CV] bootstrap=False, min_samples_leaf=10, n_estimators=11, min_samples_split=30, max_features=sqrt, max_depth=30 \n",
      "[CV]  bootstrap=False, min_samples_leaf=10, n_estimators=10, min_samples_split=10, max_features=auto, max_depth=20, total=   0.6s\n",
      "[CV] bootstrap=False, min_samples_leaf=10, n_estimators=11, min_samples_split=30, max_features=sqrt, max_depth=30 \n",
      "[CV]  bootstrap=False, min_samples_leaf=10, n_estimators=10, min_samples_split=10, max_features=auto, max_depth=20, total=   0.6s\n",
      "[CV] bootstrap=True, min_samples_leaf=10, n_estimators=10, min_samples_split=20, max_features=sqrt, max_depth=30 \n"
     ]
    },
    {
     "name": "stdout",
     "output_type": "stream",
     "text": [
      "[CV]  bootstrap=False, min_samples_leaf=10, n_estimators=11, min_samples_split=30, max_features=sqrt, max_depth=30, total=   0.8s\n",
      "[CV] bootstrap=True, min_samples_leaf=10, n_estimators=10, min_samples_split=20, max_features=sqrt, max_depth=30 \n",
      "[CV]  bootstrap=False, min_samples_leaf=10, n_estimators=11, min_samples_split=30, max_features=sqrt, max_depth=30, total=   0.7s\n",
      "[CV] bootstrap=True, min_samples_leaf=10, n_estimators=10, min_samples_split=20, max_features=sqrt, max_depth=30 \n",
      "[CV]  bootstrap=True, min_samples_leaf=10, n_estimators=10, min_samples_split=20, max_features=sqrt, max_depth=30, total=   0.5s\n",
      "[CV] bootstrap=False, min_samples_leaf=10, n_estimators=25, min_samples_split=20, max_features=sqrt, max_depth=20 \n",
      "[CV]  bootstrap=False, min_samples_leaf=10, n_estimators=11, min_samples_split=30, max_features=sqrt, max_depth=30, total=   0.7s\n",
      "[CV] bootstrap=False, min_samples_leaf=10, n_estimators=25, min_samples_split=20, max_features=sqrt, max_depth=20 \n",
      "[CV]  bootstrap=True, min_samples_leaf=10, n_estimators=10, min_samples_split=20, max_features=sqrt, max_depth=30, total=   0.6s\n",
      "[CV] bootstrap=False, min_samples_leaf=10, n_estimators=25, min_samples_split=20, max_features=sqrt, max_depth=20 \n",
      "[CV]  bootstrap=True, min_samples_leaf=10, n_estimators=10, min_samples_split=20, max_features=sqrt, max_depth=30, total=   0.5s\n",
      "[CV] bootstrap=False, min_samples_leaf=5, n_estimators=15, min_samples_split=30, max_features=auto, max_depth=20 \n",
      "[CV]  bootstrap=False, min_samples_leaf=5, n_estimators=15, min_samples_split=30, max_features=auto, max_depth=20, total=   0.7s\n",
      "[CV] bootstrap=False, min_samples_leaf=5, n_estimators=15, min_samples_split=30, max_features=auto, max_depth=20 \n",
      "[CV]  bootstrap=False, min_samples_leaf=10, n_estimators=25, min_samples_split=20, max_features=sqrt, max_depth=20, total=   1.1s\n",
      "[CV] bootstrap=False, min_samples_leaf=5, n_estimators=15, min_samples_split=30, max_features=auto, max_depth=20 \n",
      "[CV]  bootstrap=False, min_samples_leaf=10, n_estimators=25, min_samples_split=20, max_features=sqrt, max_depth=20, total=   1.1s\n",
      "[CV] bootstrap=True, min_samples_leaf=10, n_estimators=25, min_samples_split=10, max_features=auto, max_depth=20 \n",
      "[CV]  bootstrap=False, min_samples_leaf=10, n_estimators=25, min_samples_split=20, max_features=sqrt, max_depth=20, total=   1.2s\n",
      "[CV] bootstrap=True, min_samples_leaf=10, n_estimators=25, min_samples_split=10, max_features=auto, max_depth=20 \n",
      "[CV]  bootstrap=False, min_samples_leaf=5, n_estimators=15, min_samples_split=30, max_features=auto, max_depth=20, total=   0.8s\n",
      "[CV]  bootstrap=False, min_samples_leaf=5, n_estimators=15, min_samples_split=30, max_features=auto, max_depth=20, total=   0.8s\n",
      "[CV] bootstrap=True, min_samples_leaf=10, n_estimators=25, min_samples_split=10, max_features=auto, max_depth=20 \n",
      "[CV] bootstrap=True, min_samples_leaf=15, n_estimators=10, min_samples_split=10, max_features=auto, max_depth=30 \n",
      "[CV]  bootstrap=True, min_samples_leaf=10, n_estimators=25, min_samples_split=10, max_features=auto, max_depth=20, total=   1.0s\n",
      "[CV] bootstrap=True, min_samples_leaf=15, n_estimators=10, min_samples_split=10, max_features=auto, max_depth=30 \n",
      "[CV]  bootstrap=True, min_samples_leaf=10, n_estimators=25, min_samples_split=10, max_features=auto, max_depth=20, total=   1.0s\n",
      "[CV]  bootstrap=True, min_samples_leaf=15, n_estimators=10, min_samples_split=10, max_features=auto, max_depth=30, total=   0.4s\n",
      "[CV] bootstrap=True, min_samples_leaf=15, n_estimators=10, min_samples_split=10, max_features=auto, max_depth=30 \n",
      "[CV] bootstrap=False, min_samples_leaf=5, n_estimators=10, min_samples_split=10, max_features=sqrt, max_depth=10 \n",
      "[CV]  bootstrap=True, min_samples_leaf=15, n_estimators=10, min_samples_split=10, max_features=auto, max_depth=30, total=   0.5s\n",
      "[CV]  bootstrap=True, min_samples_leaf=10, n_estimators=25, min_samples_split=10, max_features=auto, max_depth=20, total=   1.0s\n",
      "[CV] bootstrap=False, min_samples_leaf=5, n_estimators=10, min_samples_split=10, max_features=sqrt, max_depth=10 \n",
      "[CV] bootstrap=False, min_samples_leaf=5, n_estimators=10, min_samples_split=10, max_features=sqrt, max_depth=10 \n",
      "[CV]  bootstrap=False, min_samples_leaf=5, n_estimators=10, min_samples_split=10, max_features=sqrt, max_depth=10, total=   0.4s\n",
      "[CV]  bootstrap=True, min_samples_leaf=15, n_estimators=10, min_samples_split=10, max_features=auto, max_depth=30, total=   0.4s\n",
      "[CV] bootstrap=False, min_samples_leaf=10, n_estimators=11, min_samples_split=10, max_features=sqrt, max_depth=20 \n",
      "[CV] bootstrap=False, min_samples_leaf=10, n_estimators=11, min_samples_split=10, max_features=sqrt, max_depth=20 \n"
     ]
    },
    {
     "name": "stderr",
     "output_type": "stream",
     "text": [
      "[Parallel(n_jobs=-1)]: Done 154 tasks      | elapsed:   39.3s\n"
     ]
    },
    {
     "name": "stdout",
     "output_type": "stream",
     "text": [
      "[CV]  bootstrap=False, min_samples_leaf=5, n_estimators=10, min_samples_split=10, max_features=sqrt, max_depth=10, total=   0.5s\n",
      "[CV]  bootstrap=False, min_samples_leaf=5, n_estimators=10, min_samples_split=10, max_features=sqrt, max_depth=10, total=   0.5s\n",
      "[CV] bootstrap=False, min_samples_leaf=10, n_estimators=11, min_samples_split=10, max_features=sqrt, max_depth=20 \n",
      "[CV] bootstrap=True, min_samples_leaf=15, n_estimators=25, min_samples_split=10, max_features=sqrt, max_depth=10 \n",
      "[CV]  bootstrap=False, min_samples_leaf=10, n_estimators=11, min_samples_split=10, max_features=sqrt, max_depth=20, total=   0.6s\n",
      "[CV] bootstrap=True, min_samples_leaf=15, n_estimators=25, min_samples_split=10, max_features=sqrt, max_depth=10 \n",
      "[CV]  bootstrap=False, min_samples_leaf=10, n_estimators=11, min_samples_split=10, max_features=sqrt, max_depth=20, total=   0.6s\n",
      "[CV] bootstrap=True, min_samples_leaf=15, n_estimators=25, min_samples_split=10, max_features=sqrt, max_depth=10 \n",
      "[CV]  bootstrap=False, min_samples_leaf=10, n_estimators=11, min_samples_split=10, max_features=sqrt, max_depth=20, total=   0.6s\n",
      "[CV] bootstrap=True, min_samples_leaf=10, n_estimators=11, min_samples_split=20, max_features=sqrt, max_depth=10 \n",
      "[CV]  bootstrap=True, min_samples_leaf=15, n_estimators=25, min_samples_split=10, max_features=sqrt, max_depth=10, total=   0.7s\n",
      "[CV] bootstrap=True, min_samples_leaf=10, n_estimators=11, min_samples_split=20, max_features=sqrt, max_depth=10 \n",
      "[CV]  bootstrap=True, min_samples_leaf=15, n_estimators=25, min_samples_split=10, max_features=sqrt, max_depth=10, total=   0.7s\n",
      "[CV] bootstrap=True, min_samples_leaf=10, n_estimators=11, min_samples_split=20, max_features=sqrt, max_depth=10 \n",
      "[CV]  bootstrap=True, min_samples_leaf=15, n_estimators=25, min_samples_split=10, max_features=sqrt, max_depth=10, total=   0.7s\n",
      "[CV]  bootstrap=True, min_samples_leaf=10, n_estimators=11, min_samples_split=20, max_features=sqrt, max_depth=10, total=   0.4s\n",
      "[CV] bootstrap=True, min_samples_leaf=5, n_estimators=11, min_samples_split=10, max_features=sqrt, max_depth=10 \n",
      "[CV] bootstrap=True, min_samples_leaf=5, n_estimators=11, min_samples_split=10, max_features=sqrt, max_depth=10 \n",
      "[CV]  bootstrap=True, min_samples_leaf=10, n_estimators=11, min_samples_split=20, max_features=sqrt, max_depth=10, total=   0.4s\n",
      "[CV] bootstrap=True, min_samples_leaf=5, n_estimators=11, min_samples_split=10, max_features=sqrt, max_depth=10 \n",
      "[CV]  bootstrap=True, min_samples_leaf=10, n_estimators=11, min_samples_split=20, max_features=sqrt, max_depth=10, total=   0.5s\n",
      "[CV] bootstrap=True, min_samples_leaf=10, n_estimators=10, min_samples_split=20, max_features=sqrt, max_depth=20 \n",
      "[CV]  bootstrap=True, min_samples_leaf=5, n_estimators=11, min_samples_split=10, max_features=sqrt, max_depth=10, total=   0.4s\n",
      "[CV] bootstrap=True, min_samples_leaf=10, n_estimators=10, min_samples_split=20, max_features=sqrt, max_depth=20 \n",
      "[CV]  bootstrap=True, min_samples_leaf=5, n_estimators=11, min_samples_split=10, max_features=sqrt, max_depth=10, total=   0.4s\n",
      "[CV] bootstrap=True, min_samples_leaf=10, n_estimators=10, min_samples_split=20, max_features=sqrt, max_depth=20 \n",
      "[CV]  bootstrap=True, min_samples_leaf=5, n_estimators=11, min_samples_split=10, max_features=sqrt, max_depth=10, total=   0.5s\n",
      "[CV] bootstrap=True, min_samples_leaf=15, n_estimators=11, min_samples_split=20, max_features=sqrt, max_depth=30 \n",
      "[CV]  bootstrap=True, min_samples_leaf=10, n_estimators=10, min_samples_split=20, max_features=sqrt, max_depth=20, total=   0.5s\n",
      "[CV]  bootstrap=True, min_samples_leaf=10, n_estimators=10, min_samples_split=20, max_features=sqrt, max_depth=20, total=   0.5s\n",
      "[CV] bootstrap=True, min_samples_leaf=15, n_estimators=11, min_samples_split=20, max_features=sqrt, max_depth=30 \n",
      "[CV]  bootstrap=True, min_samples_leaf=10, n_estimators=10, min_samples_split=20, max_features=sqrt, max_depth=20, total=   0.5s\n",
      "[CV] bootstrap=True, min_samples_leaf=15, n_estimators=11, min_samples_split=20, max_features=sqrt, max_depth=30 \n",
      "[CV] bootstrap=True, min_samples_leaf=15, n_estimators=10, min_samples_split=10, max_features=sqrt, max_depth=10 \n",
      "[CV]  bootstrap=True, min_samples_leaf=15, n_estimators=11, min_samples_split=20, max_features=sqrt, max_depth=30, total=   0.5s\n",
      "[CV] bootstrap=True, min_samples_leaf=15, n_estimators=10, min_samples_split=10, max_features=sqrt, max_depth=10 \n",
      "[CV]  bootstrap=True, min_samples_leaf=15, n_estimators=10, min_samples_split=10, max_features=sqrt, max_depth=10, total=   0.4s\n",
      "[CV] bootstrap=True, min_samples_leaf=15, n_estimators=10, min_samples_split=10, max_features=sqrt, max_depth=10 \n",
      "[CV]  bootstrap=True, min_samples_leaf=15, n_estimators=11, min_samples_split=20, max_features=sqrt, max_depth=30, total=   0.5s\n",
      "[CV]  bootstrap=True, min_samples_leaf=15, n_estimators=11, min_samples_split=20, max_features=sqrt, max_depth=30, total=   0.6s\n",
      "[CV] bootstrap=True, min_samples_leaf=15, n_estimators=12, min_samples_split=20, max_features=auto, max_depth=10 \n",
      "[CV] bootstrap=True, min_samples_leaf=15, n_estimators=12, min_samples_split=20, max_features=auto, max_depth=10 \n",
      "[CV]  bootstrap=True, min_samples_leaf=15, n_estimators=10, min_samples_split=10, max_features=sqrt, max_depth=10, total=   0.4s\n",
      "[CV] bootstrap=True, min_samples_leaf=15, n_estimators=12, min_samples_split=20, max_features=auto, max_depth=10 \n",
      "[CV]  bootstrap=True, min_samples_leaf=15, n_estimators=10, min_samples_split=10, max_features=sqrt, max_depth=10, total=   0.5s\n",
      "[CV] bootstrap=True, min_samples_leaf=10, n_estimators=11, min_samples_split=20, max_features=auto, max_depth=10 \n",
      "[CV]  bootstrap=True, min_samples_leaf=15, n_estimators=12, min_samples_split=20, max_features=auto, max_depth=10, total=   0.6s\n",
      "[CV]  bootstrap=True, min_samples_leaf=15, n_estimators=12, min_samples_split=20, max_features=auto, max_depth=10, total=   0.5s\n",
      "[CV] bootstrap=True, min_samples_leaf=10, n_estimators=11, min_samples_split=20, max_features=auto, max_depth=10 \n",
      "[CV] bootstrap=True, min_samples_leaf=10, n_estimators=11, min_samples_split=20, max_features=auto, max_depth=10 \n",
      "[CV]  bootstrap=True, min_samples_leaf=15, n_estimators=12, min_samples_split=20, max_features=auto, max_depth=10, total=   0.5s\n",
      "[CV] bootstrap=False, min_samples_leaf=5, n_estimators=12, min_samples_split=30, max_features=auto, max_depth=30 \n",
      "[CV]  bootstrap=True, min_samples_leaf=10, n_estimators=11, min_samples_split=20, max_features=auto, max_depth=10, total=   0.7s\n",
      "[CV] bootstrap=False, min_samples_leaf=5, n_estimators=12, min_samples_split=30, max_features=auto, max_depth=30 \n",
      "[CV]  bootstrap=True, min_samples_leaf=10, n_estimators=11, min_samples_split=20, max_features=auto, max_depth=10, total=   0.9s\n",
      "[CV]  bootstrap=True, min_samples_leaf=10, n_estimators=11, min_samples_split=20, max_features=auto, max_depth=10, total=   0.8s\n",
      "[CV] bootstrap=False, min_samples_leaf=5, n_estimators=12, min_samples_split=30, max_features=auto, max_depth=30 \n",
      "[CV] bootstrap=False, min_samples_leaf=10, n_estimators=25, min_samples_split=10, max_features=auto, max_depth=20 \n",
      "[CV]  bootstrap=False, min_samples_leaf=5, n_estimators=12, min_samples_split=30, max_features=auto, max_depth=30, total=   1.3s\n",
      "[CV] bootstrap=False, min_samples_leaf=10, n_estimators=25, min_samples_split=10, max_features=auto, max_depth=20 \n",
      "[CV]  bootstrap=False, min_samples_leaf=5, n_estimators=12, min_samples_split=30, max_features=auto, max_depth=30, total=   1.0s\n",
      "[CV] bootstrap=False, min_samples_leaf=10, n_estimators=25, min_samples_split=10, max_features=auto, max_depth=20 \n",
      "[CV]  bootstrap=False, min_samples_leaf=5, n_estimators=12, min_samples_split=30, max_features=auto, max_depth=30, total=   0.9s\n",
      "[CV] bootstrap=False, min_samples_leaf=15, n_estimators=12, min_samples_split=10, max_features=auto, max_depth=30 \n",
      "[CV]  bootstrap=False, min_samples_leaf=10, n_estimators=25, min_samples_split=10, max_features=auto, max_depth=20, total=   1.4s\n",
      "[CV] bootstrap=False, min_samples_leaf=15, n_estimators=12, min_samples_split=10, max_features=auto, max_depth=30 \n",
      "[CV]  bootstrap=False, min_samples_leaf=15, n_estimators=12, min_samples_split=10, max_features=auto, max_depth=30, total=   0.7s\n",
      "[CV] bootstrap=False, min_samples_leaf=15, n_estimators=12, min_samples_split=10, max_features=auto, max_depth=30 \n"
     ]
    },
    {
     "name": "stdout",
     "output_type": "stream",
     "text": [
      "[CV]  bootstrap=False, min_samples_leaf=10, n_estimators=25, min_samples_split=10, max_features=auto, max_depth=20, total=   1.4s\n",
      "[CV] bootstrap=False, min_samples_leaf=5, n_estimators=10, min_samples_split=20, max_features=sqrt, max_depth=20 \n",
      "[CV]  bootstrap=False, min_samples_leaf=10, n_estimators=25, min_samples_split=10, max_features=auto, max_depth=20, total=   1.3s\n",
      "[CV] bootstrap=False, min_samples_leaf=5, n_estimators=10, min_samples_split=20, max_features=sqrt, max_depth=20 \n",
      "[CV]  bootstrap=False, min_samples_leaf=15, n_estimators=12, min_samples_split=10, max_features=auto, max_depth=30, total=   0.7s\n",
      "[CV] bootstrap=False, min_samples_leaf=5, n_estimators=10, min_samples_split=20, max_features=sqrt, max_depth=20 \n",
      "[CV]  bootstrap=False, min_samples_leaf=15, n_estimators=12, min_samples_split=10, max_features=auto, max_depth=30, total=   0.7s\n",
      "[CV] bootstrap=False, min_samples_leaf=5, n_estimators=25, min_samples_split=30, max_features=auto, max_depth=10 \n",
      "[CV]  bootstrap=False, min_samples_leaf=5, n_estimators=10, min_samples_split=20, max_features=sqrt, max_depth=20, total=   0.6s\n",
      "[CV] bootstrap=False, min_samples_leaf=5, n_estimators=25, min_samples_split=30, max_features=auto, max_depth=10 \n",
      "[CV]  bootstrap=False, min_samples_leaf=5, n_estimators=10, min_samples_split=20, max_features=sqrt, max_depth=20, total=   0.6s\n",
      "[CV] bootstrap=False, min_samples_leaf=5, n_estimators=25, min_samples_split=30, max_features=auto, max_depth=10 \n",
      "[CV]  bootstrap=False, min_samples_leaf=5, n_estimators=10, min_samples_split=20, max_features=sqrt, max_depth=20, total=   0.6s\n",
      "[CV] bootstrap=False, min_samples_leaf=10, n_estimators=25, min_samples_split=30, max_features=auto, max_depth=30 \n",
      "[CV]  bootstrap=False, min_samples_leaf=5, n_estimators=25, min_samples_split=30, max_features=auto, max_depth=10, total=   0.9s\n",
      "[CV] bootstrap=False, min_samples_leaf=10, n_estimators=25, min_samples_split=30, max_features=auto, max_depth=30 \n",
      "[CV]  bootstrap=False, min_samples_leaf=5, n_estimators=25, min_samples_split=30, max_features=auto, max_depth=10, total=   0.9s\n",
      "[CV] bootstrap=False, min_samples_leaf=10, n_estimators=25, min_samples_split=30, max_features=auto, max_depth=30 \n",
      "[CV]  bootstrap=False, min_samples_leaf=5, n_estimators=25, min_samples_split=30, max_features=auto, max_depth=10, total=   0.8s\n",
      "[CV] bootstrap=True, min_samples_leaf=5, n_estimators=10, min_samples_split=30, max_features=auto, max_depth=30 \n",
      "[CV]  bootstrap=False, min_samples_leaf=10, n_estimators=25, min_samples_split=30, max_features=auto, max_depth=30, total=   1.3s\n",
      "[CV]  bootstrap=True, min_samples_leaf=5, n_estimators=10, min_samples_split=30, max_features=auto, max_depth=30, total=   0.5s\n",
      "[CV] bootstrap=True, min_samples_leaf=5, n_estimators=10, min_samples_split=30, max_features=auto, max_depth=30 \n",
      "[CV] bootstrap=True, min_samples_leaf=5, n_estimators=10, min_samples_split=30, max_features=auto, max_depth=30 \n",
      "[CV]  bootstrap=False, min_samples_leaf=10, n_estimators=25, min_samples_split=30, max_features=auto, max_depth=30, total=   1.4s\n",
      "[CV] bootstrap=False, min_samples_leaf=5, n_estimators=25, min_samples_split=20, max_features=auto, max_depth=10 \n",
      "[CV]  bootstrap=True, min_samples_leaf=5, n_estimators=10, min_samples_split=30, max_features=auto, max_depth=30, total=   0.5s\n",
      "[CV] bootstrap=False, min_samples_leaf=5, n_estimators=25, min_samples_split=20, max_features=auto, max_depth=10 \n",
      "[CV]  bootstrap=True, min_samples_leaf=5, n_estimators=10, min_samples_split=30, max_features=auto, max_depth=30, total=   0.5s\n",
      "[CV]  bootstrap=False, min_samples_leaf=10, n_estimators=25, min_samples_split=30, max_features=auto, max_depth=30, total=   1.3s\n",
      "[CV] bootstrap=False, min_samples_leaf=5, n_estimators=25, min_samples_split=20, max_features=auto, max_depth=10 \n",
      "[CV] bootstrap=False, min_samples_leaf=15, n_estimators=10, min_samples_split=30, max_features=sqrt, max_depth=10 \n",
      "[CV]  bootstrap=False, min_samples_leaf=15, n_estimators=10, min_samples_split=30, max_features=sqrt, max_depth=10, total=   0.3s\n",
      "[CV] bootstrap=False, min_samples_leaf=15, n_estimators=10, min_samples_split=30, max_features=sqrt, max_depth=10 \n",
      "[CV]  bootstrap=False, min_samples_leaf=5, n_estimators=25, min_samples_split=20, max_features=auto, max_depth=10, total=   0.9s\n",
      "[CV] bootstrap=False, min_samples_leaf=15, n_estimators=10, min_samples_split=30, max_features=sqrt, max_depth=10 \n",
      "[CV]  bootstrap=False, min_samples_leaf=5, n_estimators=25, min_samples_split=20, max_features=auto, max_depth=10, total=   0.8s\n",
      "[CV] bootstrap=True, min_samples_leaf=10, n_estimators=12, min_samples_split=20, max_features=auto, max_depth=30 \n",
      "[CV]  bootstrap=False, min_samples_leaf=5, n_estimators=25, min_samples_split=20, max_features=auto, max_depth=10, total=   0.9s\n",
      "[CV]  bootstrap=False, min_samples_leaf=15, n_estimators=10, min_samples_split=30, max_features=sqrt, max_depth=10, total=   0.4s\n",
      "[CV] bootstrap=True, min_samples_leaf=10, n_estimators=12, min_samples_split=20, max_features=auto, max_depth=30 \n",
      "[CV] bootstrap=True, min_samples_leaf=10, n_estimators=12, min_samples_split=20, max_features=auto, max_depth=30 \n",
      "[CV]  bootstrap=False, min_samples_leaf=15, n_estimators=10, min_samples_split=30, max_features=sqrt, max_depth=10, total=   0.5s\n",
      "[CV] bootstrap=True, min_samples_leaf=15, n_estimators=12, min_samples_split=30, max_features=auto, max_depth=20 \n",
      "[CV]  bootstrap=True, min_samples_leaf=10, n_estimators=12, min_samples_split=20, max_features=auto, max_depth=30, total=   0.6s\n",
      "[CV] bootstrap=True, min_samples_leaf=15, n_estimators=12, min_samples_split=30, max_features=auto, max_depth=20 \n",
      "[CV]  bootstrap=True, min_samples_leaf=10, n_estimators=12, min_samples_split=20, max_features=auto, max_depth=30, total=   0.6s\n",
      "[CV]  bootstrap=True, min_samples_leaf=10, n_estimators=12, min_samples_split=20, max_features=auto, max_depth=30, total=   0.6s\n",
      "[CV] bootstrap=True, min_samples_leaf=15, n_estimators=12, min_samples_split=30, max_features=auto, max_depth=20 \n",
      "[CV] bootstrap=True, min_samples_leaf=15, n_estimators=15, min_samples_split=30, max_features=sqrt, max_depth=20 \n",
      "[CV]  bootstrap=True, min_samples_leaf=15, n_estimators=12, min_samples_split=30, max_features=auto, max_depth=20, total=   0.5s\n",
      "[CV] bootstrap=True, min_samples_leaf=15, n_estimators=15, min_samples_split=30, max_features=sqrt, max_depth=20 \n",
      "[CV]  bootstrap=True, min_samples_leaf=15, n_estimators=12, min_samples_split=30, max_features=auto, max_depth=20, total=   0.7s\n",
      "[CV] bootstrap=True, min_samples_leaf=15, n_estimators=15, min_samples_split=30, max_features=sqrt, max_depth=20 \n",
      "[CV]  bootstrap=True, min_samples_leaf=15, n_estimators=12, min_samples_split=30, max_features=auto, max_depth=20, total=   0.9s\n",
      "[CV] bootstrap=True, min_samples_leaf=5, n_estimators=25, min_samples_split=20, max_features=auto, max_depth=30 \n",
      "[CV]  bootstrap=True, min_samples_leaf=15, n_estimators=15, min_samples_split=30, max_features=sqrt, max_depth=20, total=   0.9s\n",
      "[CV] bootstrap=True, min_samples_leaf=5, n_estimators=25, min_samples_split=20, max_features=auto, max_depth=30 \n",
      "[CV]  bootstrap=True, min_samples_leaf=15, n_estimators=15, min_samples_split=30, max_features=sqrt, max_depth=20, total=   1.0s\n",
      "[CV] bootstrap=True, min_samples_leaf=5, n_estimators=25, min_samples_split=20, max_features=auto, max_depth=30 \n",
      "[CV]  bootstrap=True, min_samples_leaf=15, n_estimators=15, min_samples_split=30, max_features=sqrt, max_depth=20, total=   0.7s\n",
      "[CV] bootstrap=True, min_samples_leaf=15, n_estimators=15, min_samples_split=20, max_features=sqrt, max_depth=30 \n",
      "[CV]  bootstrap=True, min_samples_leaf=15, n_estimators=15, min_samples_split=20, max_features=sqrt, max_depth=30, total=   0.6s\n",
      "[CV] bootstrap=True, min_samples_leaf=15, n_estimators=15, min_samples_split=20, max_features=sqrt, max_depth=30 \n",
      "[CV]  bootstrap=True, min_samples_leaf=5, n_estimators=25, min_samples_split=20, max_features=auto, max_depth=30, total=   1.2s\n",
      "[CV] bootstrap=True, min_samples_leaf=15, n_estimators=15, min_samples_split=20, max_features=sqrt, max_depth=30 \n",
      "[CV]  bootstrap=True, min_samples_leaf=5, n_estimators=25, min_samples_split=20, max_features=auto, max_depth=30, total=   1.3s\n",
      "[CV] bootstrap=True, min_samples_leaf=10, n_estimators=11, min_samples_split=30, max_features=auto, max_depth=30 \n"
     ]
    },
    {
     "name": "stdout",
     "output_type": "stream",
     "text": [
      "[CV]  bootstrap=True, min_samples_leaf=5, n_estimators=25, min_samples_split=20, max_features=auto, max_depth=30, total=   1.3s\n",
      "[CV] bootstrap=True, min_samples_leaf=10, n_estimators=11, min_samples_split=30, max_features=auto, max_depth=30 \n",
      "[CV]  bootstrap=True, min_samples_leaf=15, n_estimators=15, min_samples_split=20, max_features=sqrt, max_depth=30, total=   0.7s\n",
      "[CV] bootstrap=True, min_samples_leaf=10, n_estimators=11, min_samples_split=30, max_features=auto, max_depth=30 \n",
      "[CV]  bootstrap=True, min_samples_leaf=10, n_estimators=11, min_samples_split=30, max_features=auto, max_depth=30, total=   0.6s\n",
      "[CV]  bootstrap=True, min_samples_leaf=15, n_estimators=15, min_samples_split=20, max_features=sqrt, max_depth=30, total=   0.7s\n",
      "[CV] bootstrap=False, min_samples_leaf=10, n_estimators=15, min_samples_split=10, max_features=auto, max_depth=10 \n",
      "[CV] bootstrap=False, min_samples_leaf=10, n_estimators=15, min_samples_split=10, max_features=auto, max_depth=10 \n",
      "[CV]  bootstrap=True, min_samples_leaf=10, n_estimators=11, min_samples_split=30, max_features=auto, max_depth=30, total=   0.6s\n",
      "[CV] bootstrap=False, min_samples_leaf=10, n_estimators=15, min_samples_split=10, max_features=auto, max_depth=10 \n",
      "[CV]  bootstrap=True, min_samples_leaf=10, n_estimators=11, min_samples_split=30, max_features=auto, max_depth=30, total=   0.7s\n",
      "[CV] bootstrap=False, min_samples_leaf=10, n_estimators=15, min_samples_split=10, max_features=sqrt, max_depth=20 \n",
      "[CV]  bootstrap=False, min_samples_leaf=10, n_estimators=15, min_samples_split=10, max_features=auto, max_depth=10, total=   0.6s\n",
      "[CV] bootstrap=False, min_samples_leaf=10, n_estimators=15, min_samples_split=10, max_features=sqrt, max_depth=20 \n",
      "[CV]  bootstrap=False, min_samples_leaf=10, n_estimators=15, min_samples_split=10, max_features=auto, max_depth=10, total=   0.6s\n",
      "[CV] bootstrap=False, min_samples_leaf=10, n_estimators=15, min_samples_split=10, max_features=sqrt, max_depth=20 \n",
      "[CV]  bootstrap=False, min_samples_leaf=10, n_estimators=15, min_samples_split=10, max_features=auto, max_depth=10, total=   0.7s\n",
      "[CV] bootstrap=False, min_samples_leaf=10, n_estimators=12, min_samples_split=30, max_features=sqrt, max_depth=10 \n",
      "[CV]  bootstrap=False, min_samples_leaf=10, n_estimators=12, min_samples_split=30, max_features=sqrt, max_depth=10, total=   0.5s\n",
      "[CV] bootstrap=False, min_samples_leaf=10, n_estimators=12, min_samples_split=30, max_features=sqrt, max_depth=10 \n",
      "[CV]  bootstrap=False, min_samples_leaf=10, n_estimators=15, min_samples_split=10, max_features=sqrt, max_depth=20, total=   1.0s\n",
      "[CV]  bootstrap=False, min_samples_leaf=10, n_estimators=15, min_samples_split=10, max_features=sqrt, max_depth=20, total=   1.1s\n",
      "[CV] bootstrap=False, min_samples_leaf=10, n_estimators=12, min_samples_split=30, max_features=sqrt, max_depth=10 \n",
      "[CV] bootstrap=True, min_samples_leaf=5, n_estimators=10, min_samples_split=10, max_features=auto, max_depth=20 \n",
      "[CV]  bootstrap=False, min_samples_leaf=10, n_estimators=15, min_samples_split=10, max_features=sqrt, max_depth=20, total=   0.9s\n",
      "[CV] bootstrap=True, min_samples_leaf=5, n_estimators=10, min_samples_split=10, max_features=auto, max_depth=20 \n",
      "[CV]  bootstrap=False, min_samples_leaf=10, n_estimators=12, min_samples_split=30, max_features=sqrt, max_depth=10, total=   0.6s\n",
      "[CV] bootstrap=True, min_samples_leaf=5, n_estimators=10, min_samples_split=10, max_features=auto, max_depth=20 \n",
      "[CV]  bootstrap=False, min_samples_leaf=10, n_estimators=12, min_samples_split=30, max_features=sqrt, max_depth=10, total=   0.5s\n",
      "[CV] bootstrap=False, min_samples_leaf=5, n_estimators=12, min_samples_split=30, max_features=auto, max_depth=10 \n",
      "[CV]  bootstrap=True, min_samples_leaf=5, n_estimators=10, min_samples_split=10, max_features=auto, max_depth=20, total=   0.5s\n",
      "[CV] bootstrap=False, min_samples_leaf=5, n_estimators=12, min_samples_split=30, max_features=auto, max_depth=10 \n",
      "[CV]  bootstrap=True, min_samples_leaf=5, n_estimators=10, min_samples_split=10, max_features=auto, max_depth=20, total=   0.5s\n",
      "[CV] bootstrap=False, min_samples_leaf=5, n_estimators=12, min_samples_split=30, max_features=auto, max_depth=10 \n",
      "[CV]  bootstrap=True, min_samples_leaf=5, n_estimators=10, min_samples_split=10, max_features=auto, max_depth=20, total=   0.6s\n",
      "[CV]  bootstrap=False, min_samples_leaf=5, n_estimators=12, min_samples_split=30, max_features=auto, max_depth=10, total=   0.5s\n",
      "[CV] bootstrap=False, min_samples_leaf=10, n_estimators=10, min_samples_split=30, max_features=sqrt, max_depth=10 \n",
      "[CV]  bootstrap=False, min_samples_leaf=5, n_estimators=12, min_samples_split=30, max_features=auto, max_depth=10, total=   0.5s\n",
      "[CV] bootstrap=False, min_samples_leaf=10, n_estimators=10, min_samples_split=30, max_features=sqrt, max_depth=10 \n",
      "[CV] bootstrap=False, min_samples_leaf=10, n_estimators=10, min_samples_split=30, max_features=sqrt, max_depth=10 \n",
      "[CV]  bootstrap=False, min_samples_leaf=5, n_estimators=12, min_samples_split=30, max_features=auto, max_depth=10, total=   0.5s\n",
      "[CV] bootstrap=True, min_samples_leaf=10, n_estimators=25, min_samples_split=30, max_features=auto, max_depth=20 \n",
      "[CV]  bootstrap=False, min_samples_leaf=10, n_estimators=10, min_samples_split=30, max_features=sqrt, max_depth=10, total=   0.5s\n",
      "[CV]  bootstrap=False, min_samples_leaf=10, n_estimators=10, min_samples_split=30, max_features=sqrt, max_depth=10, total=   0.4s\n",
      "[CV] bootstrap=True, min_samples_leaf=10, n_estimators=25, min_samples_split=30, max_features=auto, max_depth=20 \n",
      "[CV]  bootstrap=False, min_samples_leaf=10, n_estimators=10, min_samples_split=30, max_features=sqrt, max_depth=10, total=   0.4s\n",
      "[CV] bootstrap=True, min_samples_leaf=10, n_estimators=25, min_samples_split=30, max_features=auto, max_depth=20 \n",
      "[CV] bootstrap=False, min_samples_leaf=5, n_estimators=12, min_samples_split=10, max_features=sqrt, max_depth=30 \n",
      "[CV]  bootstrap=True, min_samples_leaf=10, n_estimators=25, min_samples_split=30, max_features=auto, max_depth=20, total=   1.0s\n",
      "[CV] bootstrap=False, min_samples_leaf=5, n_estimators=12, min_samples_split=10, max_features=sqrt, max_depth=30 \n",
      "[CV]  bootstrap=False, min_samples_leaf=5, n_estimators=12, min_samples_split=10, max_features=sqrt, max_depth=30, total=   0.8s\n",
      "[CV] bootstrap=False, min_samples_leaf=5, n_estimators=12, min_samples_split=10, max_features=sqrt, max_depth=30 \n",
      "[CV]  bootstrap=True, min_samples_leaf=10, n_estimators=25, min_samples_split=30, max_features=auto, max_depth=20, total=   1.0s\n",
      "[CV]  bootstrap=True, min_samples_leaf=10, n_estimators=25, min_samples_split=30, max_features=auto, max_depth=20, total=   0.9s\n",
      "[CV] bootstrap=False, min_samples_leaf=10, n_estimators=11, min_samples_split=20, max_features=sqrt, max_depth=10 \n",
      "[CV] bootstrap=False, min_samples_leaf=10, n_estimators=11, min_samples_split=20, max_features=sqrt, max_depth=10 \n",
      "[CV]  bootstrap=False, min_samples_leaf=10, n_estimators=11, min_samples_split=20, max_features=sqrt, max_depth=10, total=   0.4s\n",
      "[CV]  bootstrap=False, min_samples_leaf=10, n_estimators=11, min_samples_split=20, max_features=sqrt, max_depth=10, total=   0.4s\n",
      "[CV] bootstrap=False, min_samples_leaf=10, n_estimators=11, min_samples_split=20, max_features=sqrt, max_depth=10 \n",
      "[CV]  bootstrap=False, min_samples_leaf=5, n_estimators=12, min_samples_split=10, max_features=sqrt, max_depth=30, total=   0.8s\n",
      "[CV] bootstrap=False, min_samples_leaf=10, n_estimators=15, min_samples_split=20, max_features=auto, max_depth=30 \n",
      "[CV] bootstrap=False, min_samples_leaf=10, n_estimators=15, min_samples_split=20, max_features=auto, max_depth=30 \n",
      "[CV]  bootstrap=False, min_samples_leaf=5, n_estimators=12, min_samples_split=10, max_features=sqrt, max_depth=30, total=   1.0s\n",
      "[CV] bootstrap=False, min_samples_leaf=10, n_estimators=15, min_samples_split=20, max_features=auto, max_depth=30 \n",
      "[CV]  bootstrap=False, min_samples_leaf=10, n_estimators=11, min_samples_split=20, max_features=sqrt, max_depth=10, total=   0.5s\n",
      "[CV] bootstrap=True, min_samples_leaf=15, n_estimators=11, min_samples_split=10, max_features=auto, max_depth=30 \n",
      "[CV]  bootstrap=False, min_samples_leaf=10, n_estimators=15, min_samples_split=20, max_features=auto, max_depth=30, total=   0.9s\n",
      "[CV]  bootstrap=False, min_samples_leaf=10, n_estimators=15, min_samples_split=20, max_features=auto, max_depth=30, total=   0.9s\n"
     ]
    },
    {
     "name": "stdout",
     "output_type": "stream",
     "text": [
      "[CV]  bootstrap=True, min_samples_leaf=15, n_estimators=11, min_samples_split=10, max_features=auto, max_depth=30, total=   0.4s\n",
      "[CV] bootstrap=True, min_samples_leaf=15, n_estimators=11, min_samples_split=10, max_features=auto, max_depth=30 \n",
      "[CV]  bootstrap=False, min_samples_leaf=10, n_estimators=15, min_samples_split=20, max_features=auto, max_depth=30, total=   0.8s\n",
      "[CV] bootstrap=True, min_samples_leaf=15, n_estimators=11, min_samples_split=10, max_features=auto, max_depth=30 \n",
      "[CV] bootstrap=True, min_samples_leaf=5, n_estimators=11, min_samples_split=10, max_features=auto, max_depth=10 \n",
      "[CV] bootstrap=True, min_samples_leaf=5, n_estimators=11, min_samples_split=10, max_features=auto, max_depth=10 \n",
      "[CV]  bootstrap=True, min_samples_leaf=5, n_estimators=11, min_samples_split=10, max_features=auto, max_depth=10, total=   0.3s\n",
      "[CV] bootstrap=True, min_samples_leaf=5, n_estimators=11, min_samples_split=10, max_features=auto, max_depth=10 \n",
      "[CV]  bootstrap=True, min_samples_leaf=15, n_estimators=11, min_samples_split=10, max_features=auto, max_depth=30, total=   0.5s\n",
      "[CV]  bootstrap=True, min_samples_leaf=5, n_estimators=11, min_samples_split=10, max_features=auto, max_depth=10, total=   0.3s\n",
      "[CV]  bootstrap=True, min_samples_leaf=15, n_estimators=11, min_samples_split=10, max_features=auto, max_depth=30, total=   0.5s\n",
      "[CV] bootstrap=True, min_samples_leaf=10, n_estimators=12, min_samples_split=30, max_features=sqrt, max_depth=20 \n",
      "[CV] bootstrap=True, min_samples_leaf=10, n_estimators=12, min_samples_split=30, max_features=sqrt, max_depth=20 \n",
      "[CV] bootstrap=True, min_samples_leaf=10, n_estimators=12, min_samples_split=30, max_features=sqrt, max_depth=20 \n",
      "[CV]  bootstrap=True, min_samples_leaf=5, n_estimators=11, min_samples_split=10, max_features=auto, max_depth=10, total=   0.4s\n",
      "[CV] bootstrap=True, min_samples_leaf=5, n_estimators=12, min_samples_split=30, max_features=auto, max_depth=10 \n",
      "[CV]  bootstrap=True, min_samples_leaf=10, n_estimators=12, min_samples_split=30, max_features=sqrt, max_depth=20, total=   0.5s\n",
      "[CV]  bootstrap=True, min_samples_leaf=10, n_estimators=12, min_samples_split=30, max_features=sqrt, max_depth=20, total=   0.6s\n",
      "[CV] bootstrap=True, min_samples_leaf=5, n_estimators=12, min_samples_split=30, max_features=auto, max_depth=10 \n",
      "[CV]  bootstrap=True, min_samples_leaf=10, n_estimators=12, min_samples_split=30, max_features=sqrt, max_depth=20, total=   0.5s\n",
      "[CV] bootstrap=True, min_samples_leaf=5, n_estimators=12, min_samples_split=30, max_features=auto, max_depth=10 \n",
      "[CV] bootstrap=False, min_samples_leaf=10, n_estimators=10, min_samples_split=30, max_features=auto, max_depth=30 \n",
      "[CV]  bootstrap=True, min_samples_leaf=5, n_estimators=12, min_samples_split=30, max_features=auto, max_depth=10, total=   0.4s\n",
      "[CV] bootstrap=False, min_samples_leaf=10, n_estimators=10, min_samples_split=30, max_features=auto, max_depth=30 \n",
      "[CV]  bootstrap=True, min_samples_leaf=5, n_estimators=12, min_samples_split=30, max_features=auto, max_depth=10, total=   0.5s\n",
      "[CV]  bootstrap=True, min_samples_leaf=5, n_estimators=12, min_samples_split=30, max_features=auto, max_depth=10, total=   0.4s\n",
      "[CV] bootstrap=False, min_samples_leaf=10, n_estimators=10, min_samples_split=30, max_features=auto, max_depth=30 \n",
      "[CV] bootstrap=True, min_samples_leaf=10, n_estimators=12, min_samples_split=10, max_features=auto, max_depth=20 \n",
      "[CV]  bootstrap=False, min_samples_leaf=10, n_estimators=10, min_samples_split=30, max_features=auto, max_depth=30, total=   0.6s\n",
      "[CV] bootstrap=True, min_samples_leaf=10, n_estimators=12, min_samples_split=10, max_features=auto, max_depth=20 \n",
      "[CV]  bootstrap=False, min_samples_leaf=10, n_estimators=10, min_samples_split=30, max_features=auto, max_depth=30, total=   0.7s\n",
      "[CV] bootstrap=True, min_samples_leaf=10, n_estimators=12, min_samples_split=10, max_features=auto, max_depth=20 \n",
      "[CV]  bootstrap=True, min_samples_leaf=10, n_estimators=12, min_samples_split=10, max_features=auto, max_depth=20, total=   0.5s\n",
      "[CV] bootstrap=False, min_samples_leaf=10, n_estimators=12, min_samples_split=20, max_features=sqrt, max_depth=20 \n",
      "[CV]  bootstrap=False, min_samples_leaf=10, n_estimators=10, min_samples_split=30, max_features=auto, max_depth=30, total=   0.7s\n",
      "[CV] bootstrap=False, min_samples_leaf=10, n_estimators=12, min_samples_split=20, max_features=sqrt, max_depth=20 \n",
      "[CV]  bootstrap=True, min_samples_leaf=10, n_estimators=12, min_samples_split=10, max_features=auto, max_depth=20, total=   0.5s\n",
      "[CV] bootstrap=False, min_samples_leaf=10, n_estimators=12, min_samples_split=20, max_features=sqrt, max_depth=20 \n",
      "[CV]  bootstrap=True, min_samples_leaf=10, n_estimators=12, min_samples_split=10, max_features=auto, max_depth=20, total=   0.6s\n",
      "[CV] bootstrap=False, min_samples_leaf=15, n_estimators=10, min_samples_split=10, max_features=auto, max_depth=20 \n",
      "[CV]  bootstrap=False, min_samples_leaf=10, n_estimators=12, min_samples_split=20, max_features=sqrt, max_depth=20, total=   0.7s\n",
      "[CV] bootstrap=False, min_samples_leaf=15, n_estimators=10, min_samples_split=10, max_features=auto, max_depth=20 \n",
      "[CV]  bootstrap=False, min_samples_leaf=10, n_estimators=12, min_samples_split=20, max_features=sqrt, max_depth=20, total=   0.7s\n",
      "[CV] bootstrap=False, min_samples_leaf=15, n_estimators=10, min_samples_split=10, max_features=auto, max_depth=20 \n",
      "[CV]  bootstrap=False, min_samples_leaf=10, n_estimators=12, min_samples_split=20, max_features=sqrt, max_depth=20, total=   0.7s\n",
      "[CV] bootstrap=True, min_samples_leaf=15, n_estimators=11, min_samples_split=10, max_features=sqrt, max_depth=10 \n",
      "[CV]  bootstrap=False, min_samples_leaf=15, n_estimators=10, min_samples_split=10, max_features=auto, max_depth=20, total=   0.6s\n",
      "[CV] bootstrap=True, min_samples_leaf=15, n_estimators=11, min_samples_split=10, max_features=sqrt, max_depth=10 \n",
      "[CV]  bootstrap=True, min_samples_leaf=15, n_estimators=11, min_samples_split=10, max_features=sqrt, max_depth=10, total=   0.4s\n",
      "[CV]  bootstrap=False, min_samples_leaf=15, n_estimators=10, min_samples_split=10, max_features=auto, max_depth=20, total=   0.6s\n",
      "[CV] bootstrap=True, min_samples_leaf=15, n_estimators=11, min_samples_split=10, max_features=sqrt, max_depth=10 \n",
      "[CV] bootstrap=False, min_samples_leaf=15, n_estimators=15, min_samples_split=10, max_features=auto, max_depth=30 \n",
      "[CV]  bootstrap=False, min_samples_leaf=15, n_estimators=10, min_samples_split=10, max_features=auto, max_depth=20, total=   0.7s\n",
      "[CV] bootstrap=False, min_samples_leaf=15, n_estimators=15, min_samples_split=10, max_features=auto, max_depth=30 \n",
      "[CV]  bootstrap=True, min_samples_leaf=15, n_estimators=11, min_samples_split=10, max_features=sqrt, max_depth=10, total=   0.4s\n",
      "[CV] bootstrap=False, min_samples_leaf=15, n_estimators=15, min_samples_split=10, max_features=auto, max_depth=30 \n",
      "[CV]  bootstrap=True, min_samples_leaf=15, n_estimators=11, min_samples_split=10, max_features=sqrt, max_depth=10, total=   0.5s\n",
      "[CV] bootstrap=False, min_samples_leaf=15, n_estimators=25, min_samples_split=10, max_features=auto, max_depth=10 \n",
      "[CV]  bootstrap=False, min_samples_leaf=15, n_estimators=15, min_samples_split=10, max_features=auto, max_depth=30, total=   0.8s\n",
      "[CV] bootstrap=False, min_samples_leaf=15, n_estimators=25, min_samples_split=10, max_features=auto, max_depth=10 \n",
      "[CV]  bootstrap=False, min_samples_leaf=15, n_estimators=15, min_samples_split=10, max_features=auto, max_depth=30, total=   0.9s\n",
      "[CV]  bootstrap=False, min_samples_leaf=15, n_estimators=15, min_samples_split=10, max_features=auto, max_depth=30, total=   0.8s\n",
      "[CV] bootstrap=False, min_samples_leaf=15, n_estimators=25, min_samples_split=10, max_features=auto, max_depth=10 \n",
      "[CV] bootstrap=False, min_samples_leaf=15, n_estimators=25, min_samples_split=20, max_features=sqrt, max_depth=10 \n",
      "[CV]  bootstrap=False, min_samples_leaf=15, n_estimators=25, min_samples_split=10, max_features=auto, max_depth=10, total=   0.9s\n",
      "[CV] bootstrap=False, min_samples_leaf=15, n_estimators=25, min_samples_split=20, max_features=sqrt, max_depth=10 \n",
      "[CV]  bootstrap=False, min_samples_leaf=15, n_estimators=25, min_samples_split=10, max_features=auto, max_depth=10, total=   0.9s\n",
      "[CV] bootstrap=False, min_samples_leaf=15, n_estimators=25, min_samples_split=20, max_features=sqrt, max_depth=10 \n"
     ]
    },
    {
     "name": "stdout",
     "output_type": "stream",
     "text": [
      "[CV]  bootstrap=False, min_samples_leaf=15, n_estimators=25, min_samples_split=10, max_features=auto, max_depth=10, total=   0.8s\n",
      "[CV]  bootstrap=False, min_samples_leaf=15, n_estimators=25, min_samples_split=20, max_features=sqrt, max_depth=10, total=   0.8s\n",
      "[CV] bootstrap=False, min_samples_leaf=15, n_estimators=11, min_samples_split=20, max_features=auto, max_depth=10 \n",
      "[CV] bootstrap=False, min_samples_leaf=15, n_estimators=11, min_samples_split=20, max_features=auto, max_depth=10 \n",
      "[CV]  bootstrap=False, min_samples_leaf=15, n_estimators=25, min_samples_split=20, max_features=sqrt, max_depth=10, total=   0.8s\n",
      "[CV] bootstrap=False, min_samples_leaf=15, n_estimators=11, min_samples_split=20, max_features=auto, max_depth=10 \n",
      "[CV]  bootstrap=False, min_samples_leaf=15, n_estimators=11, min_samples_split=20, max_features=auto, max_depth=10, total=   0.4s\n",
      "[CV] bootstrap=True, min_samples_leaf=15, n_estimators=11, min_samples_split=20, max_features=auto, max_depth=20 \n",
      "[CV]  bootstrap=False, min_samples_leaf=15, n_estimators=11, min_samples_split=20, max_features=auto, max_depth=10, total=   0.5s\n",
      "[CV] bootstrap=True, min_samples_leaf=15, n_estimators=11, min_samples_split=20, max_features=auto, max_depth=20 \n",
      "[CV]  bootstrap=False, min_samples_leaf=15, n_estimators=25, min_samples_split=20, max_features=sqrt, max_depth=10, total=   0.9s\n",
      "[CV] bootstrap=True, min_samples_leaf=15, n_estimators=11, min_samples_split=20, max_features=auto, max_depth=20 \n",
      "[CV]  bootstrap=False, min_samples_leaf=15, n_estimators=11, min_samples_split=20, max_features=auto, max_depth=10, total=   0.5s\n",
      "[CV]  bootstrap=True, min_samples_leaf=15, n_estimators=11, min_samples_split=20, max_features=auto, max_depth=20, total=   0.5s\n",
      "[CV]  bootstrap=True, min_samples_leaf=15, n_estimators=11, min_samples_split=20, max_features=auto, max_depth=20, total=   0.4s\n",
      "[CV]  bootstrap=True, min_samples_leaf=15, n_estimators=11, min_samples_split=20, max_features=auto, max_depth=20, total=   0.3s\n"
     ]
    },
    {
     "name": "stderr",
     "output_type": "stream",
     "text": [
      "[Parallel(n_jobs=-1)]: Done 300 out of 300 | elapsed:  1.2min finished\n"
     ]
    },
    {
     "data": {
      "text/plain": [
       "{'bootstrap': False,\n",
       " 'max_depth': 30,\n",
       " 'max_features': 'auto',\n",
       " 'min_samples_leaf': 5,\n",
       " 'min_samples_split': 10,\n",
       " 'n_estimators': 25}"
      ]
     },
     "execution_count": 17,
     "metadata": {},
     "output_type": "execute_result"
    }
   ],
   "source": [
    "model_random.fit(X_train, y_train)\n",
    "model_random.best_params_"
   ]
  },
  {
   "cell_type": "code",
   "execution_count": null,
   "metadata": {},
   "outputs": [],
   "source": [
    "#I rerun and n_estimator=25 is coming up! I do not know why answer is not stable"
   ]
  },
  {
   "cell_type": "code",
   "execution_count": 27,
   "metadata": {},
   "outputs": [
    {
     "data": {
      "text/plain": [
       "\"{'bootstrap': False,\\n 'max_depth': 30,\\n 'max_features': 'sqrt',\\n 'min_samples_leaf': 5,\\n 'min_samples_split': 10,\\n 'n_estimators': 12}\\n no surprise here, only n_estomators was not the max number \\n narrow the range of values for each hyperparameter to find best combination\\n after few tests:\\n model is optimize with n_estomator <12 therefore larger number is meaningless\\n\""
      ]
     },
     "execution_count": 27,
     "metadata": {},
     "output_type": "execute_result"
    }
   ],
   "source": [
    "\"\"\"{'bootstrap': False,\n",
    " 'max_depth': 30,\n",
    " 'max_features': 'sqrt',\n",
    " 'min_samples_leaf': 5,\n",
    " 'min_samples_split': 10,\n",
    " 'n_estimators': 12}\n",
    " no surprise here, only n_estomators was not the max number \n",
    " narrow the range of values for each hyperparameter to find best combination\n",
    " after few tests:\n",
    " model is optimize with n_estomator <12 therefore larger number is meaningless\n",
    "\"\"\""
   ]
  },
  {
   "cell_type": "code",
   "execution_count": 18,
   "metadata": {},
   "outputs": [
    {
     "data": {
      "text/plain": [
       "0.78494198312236285"
      ]
     },
     "execution_count": 18,
     "metadata": {},
     "output_type": "execute_result"
    }
   ],
   "source": [
    "model = RandomForestClassifier(n_estimators=12, max_depth=30,\n",
    "                               max_features='sqrt', min_samples_leaf=5, min_samples_split=10)\n",
    "model.fit(X_train, y_train)\n",
    "y_pred = model.predict(X_test)\n",
    "accuracy_score(y_test, y_pred)  # 0.78 with default values the score was 0.79!"
   ]
  },
  {
   "cell_type": "code",
   "execution_count": 19,
   "metadata": {},
   "outputs": [
    {
     "data": {
      "text/plain": [
       "0.84460706751054848"
      ]
     },
     "execution_count": 19,
     "metadata": {},
     "output_type": "execute_result"
    }
   ],
   "source": [
    "model = RandomForestClassifier(n_estimators=12,max_depth=30)\n",
    "model.fit(X_train, y_train)\n",
    "y_pred = model.predict(X_test)\n",
    "accuracy_score(y_test,y_pred) #0.83 the accuracy improves if we use default setting "
   ]
  },
  {
   "cell_type": "markdown",
   "metadata": {},
   "source": [
    "Performance vs time is one of the most fundamental which one comes first!?"
   ]
  },
  {
   "cell_type": "code",
   "execution_count": 20,
   "metadata": {},
   "outputs": [],
   "source": [
    "from sklearn.metrics import classification_report, confusion_matrix, accuracy_score\n",
    "\n",
    "i = pd.DataFrame({'feature': FILTER_COL,\n",
    "                   'importance': model.feature_importances_}).\\\n",
    "                    sort_values('importance', ascending = False)\n"
   ]
  },
  {
   "cell_type": "markdown",
   "metadata": {},
   "source": [
    "The feature importances in a random forest show the sum of the reduction in Gini Impurity over all the nodes\n",
    "splited on that feature. We can use these to try and figure out what predictor variables the random forest \n",
    "considers most important"
   ]
  },
  {
   "cell_type": "code",
   "execution_count": 31,
   "metadata": {},
   "outputs": [
    {
     "data": {
      "text/html": [
       "<div>\n",
       "<style>\n",
       "    .dataframe thead tr:only-child th {\n",
       "        text-align: right;\n",
       "    }\n",
       "\n",
       "    .dataframe thead th {\n",
       "        text-align: left;\n",
       "    }\n",
       "\n",
       "    .dataframe tbody tr th {\n",
       "        vertical-align: top;\n",
       "    }\n",
       "</style>\n",
       "<table border=\"1\" class=\"dataframe\">\n",
       "  <thead>\n",
       "    <tr style=\"text-align: right;\">\n",
       "      <th></th>\n",
       "      <th>feature</th>\n",
       "      <th>importance</th>\n",
       "    </tr>\n",
       "  </thead>\n",
       "  <tbody>\n",
       "    <tr>\n",
       "      <th>0</th>\n",
       "      <td>reviews</td>\n",
       "      <td>0.783370</td>\n",
       "    </tr>\n",
       "    <tr>\n",
       "      <th>3</th>\n",
       "      <td>price</td>\n",
       "      <td>0.108184</td>\n",
       "    </tr>\n",
       "    <tr>\n",
       "      <th>1</th>\n",
       "      <td>accommodates</td>\n",
       "      <td>0.031769</td>\n",
       "    </tr>\n",
       "    <tr>\n",
       "      <th>2</th>\n",
       "      <td>bedrooms</td>\n",
       "      <td>0.011909</td>\n",
       "    </tr>\n",
       "    <tr>\n",
       "      <th>4</th>\n",
       "      <td>room_type_Private room</td>\n",
       "      <td>0.004704</td>\n",
       "    </tr>\n",
       "    <tr>\n",
       "      <th>126</th>\n",
       "      <td>neighborhood_Waterfront Communities-The Island...</td>\n",
       "      <td>0.003625</td>\n",
       "    </tr>\n",
       "    <tr>\n",
       "      <th>114</th>\n",
       "      <td>neighborhood_South Riverdale (70)</td>\n",
       "      <td>0.001697</td>\n",
       "    </tr>\n",
       "    <tr>\n",
       "      <th>5</th>\n",
       "      <td>room_type_Shared room</td>\n",
       "      <td>0.001624</td>\n",
       "    </tr>\n",
       "    <tr>\n",
       "      <th>124</th>\n",
       "      <td>neighborhood_University (79)</td>\n",
       "      <td>0.001623</td>\n",
       "    </tr>\n",
       "    <tr>\n",
       "      <th>84</th>\n",
       "      <td>neighborhood_Moss Park (73)</td>\n",
       "      <td>0.001522</td>\n",
       "    </tr>\n",
       "    <tr>\n",
       "      <th>67</th>\n",
       "      <td>neighborhood_Kensington-Chinatown (78)</td>\n",
       "      <td>0.001498</td>\n",
       "    </tr>\n",
       "    <tr>\n",
       "      <th>8</th>\n",
       "      <td>neighborhood_Annex (95)</td>\n",
       "      <td>0.001478</td>\n",
       "    </tr>\n",
       "    <tr>\n",
       "      <th>92</th>\n",
       "      <td>neighborhood_Niagara (82)</td>\n",
       "      <td>0.001466</td>\n",
       "    </tr>\n",
       "    <tr>\n",
       "      <th>123</th>\n",
       "      <td>neighborhood_Trinity-Bellwoods (81)</td>\n",
       "      <td>0.001266</td>\n",
       "    </tr>\n",
       "    <tr>\n",
       "      <th>37</th>\n",
       "      <td>neighborhood_Dovercourt-Wallace Emerson-Juncti...</td>\n",
       "      <td>0.001138</td>\n",
       "    </tr>\n",
       "    <tr>\n",
       "      <th>17</th>\n",
       "      <td>neighborhood_Birchcliffe-Cliffside (122)</td>\n",
       "      <td>0.001129</td>\n",
       "    </tr>\n",
       "    <tr>\n",
       "      <th>105</th>\n",
       "      <td>neighborhood_Regent Park (72)</td>\n",
       "      <td>0.001021</td>\n",
       "    </tr>\n",
       "    <tr>\n",
       "      <th>113</th>\n",
       "      <td>neighborhood_South Parkdale (85)</td>\n",
       "      <td>0.001001</td>\n",
       "    </tr>\n",
       "    <tr>\n",
       "      <th>11</th>\n",
       "      <td>neighborhood_Bay Street Corridor (76)</td>\n",
       "      <td>0.000982</td>\n",
       "    </tr>\n",
       "    <tr>\n",
       "      <th>28</th>\n",
       "      <td>neighborhood_Church-Yonge Corridor (75)</td>\n",
       "      <td>0.000969</td>\n",
       "    </tr>\n",
       "    <tr>\n",
       "      <th>81</th>\n",
       "      <td>neighborhood_Milliken (130)</td>\n",
       "      <td>0.000934</td>\n",
       "    </tr>\n",
       "    <tr>\n",
       "      <th>99</th>\n",
       "      <td>neighborhood_Palmerston-Little Italy (80)</td>\n",
       "      <td>0.000906</td>\n",
       "    </tr>\n",
       "    <tr>\n",
       "      <th>12</th>\n",
       "      <td>neighborhood_Bayview Village (52)</td>\n",
       "      <td>0.000905</td>\n",
       "    </tr>\n",
       "    <tr>\n",
       "      <th>120</th>\n",
       "      <td>neighborhood_The Beaches (63)</td>\n",
       "      <td>0.000899</td>\n",
       "    </tr>\n",
       "    <tr>\n",
       "      <th>88</th>\n",
       "      <td>neighborhood_Mount Pleasant West (104)</td>\n",
       "      <td>0.000872</td>\n",
       "    </tr>\n",
       "    <tr>\n",
       "      <th>71</th>\n",
       "      <td>neighborhood_Lambton Baby Point (114)</td>\n",
       "      <td>0.000868</td>\n",
       "    </tr>\n",
       "    <tr>\n",
       "      <th>24</th>\n",
       "      <td>neighborhood_Cabbagetown-South St.James Town (71)</td>\n",
       "      <td>0.000844</td>\n",
       "    </tr>\n",
       "    <tr>\n",
       "      <th>6</th>\n",
       "      <td>neighborhood_Agincourt South-Malvern West (128)</td>\n",
       "      <td>0.000756</td>\n",
       "    </tr>\n",
       "    <tr>\n",
       "      <th>139</th>\n",
       "      <td>neighborhood_Wychwood (94)</td>\n",
       "      <td>0.000731</td>\n",
       "    </tr>\n",
       "    <tr>\n",
       "      <th>34</th>\n",
       "      <td>neighborhood_Danforth East York (59)</td>\n",
       "      <td>0.000706</td>\n",
       "    </tr>\n",
       "    <tr>\n",
       "      <th>...</th>\n",
       "      <td>...</td>\n",
       "      <td>...</td>\n",
       "    </tr>\n",
       "    <tr>\n",
       "      <th>35</th>\n",
       "      <td>neighborhood_Don Valley Village (47)</td>\n",
       "      <td>0.000122</td>\n",
       "    </tr>\n",
       "    <tr>\n",
       "      <th>101</th>\n",
       "      <td>neighborhood_Pelmo Park-Humberlea (23)</td>\n",
       "      <td>0.000121</td>\n",
       "    </tr>\n",
       "    <tr>\n",
       "      <th>66</th>\n",
       "      <td>neighborhood_Kennedy Park (124)</td>\n",
       "      <td>0.000118</td>\n",
       "    </tr>\n",
       "    <tr>\n",
       "      <th>119</th>\n",
       "      <td>neighborhood_Taylor-Massey (61)</td>\n",
       "      <td>0.000113</td>\n",
       "    </tr>\n",
       "    <tr>\n",
       "      <th>115</th>\n",
       "      <td>neighborhood_St.Andrew-Windfields (40)</td>\n",
       "      <td>0.000107</td>\n",
       "    </tr>\n",
       "    <tr>\n",
       "      <th>112</th>\n",
       "      <td>neighborhood_Scarborough Village (139)</td>\n",
       "      <td>0.000107</td>\n",
       "    </tr>\n",
       "    <tr>\n",
       "      <th>74</th>\n",
       "      <td>neighborhood_Lawrence Park South (103)</td>\n",
       "      <td>0.000090</td>\n",
       "    </tr>\n",
       "    <tr>\n",
       "      <th>125</th>\n",
       "      <td>neighborhood_Victoria Village (43)</td>\n",
       "      <td>0.000089</td>\n",
       "    </tr>\n",
       "    <tr>\n",
       "      <th>58</th>\n",
       "      <td>neighborhood_Humber Heights-Westmount (8)</td>\n",
       "      <td>0.000087</td>\n",
       "    </tr>\n",
       "    <tr>\n",
       "      <th>122</th>\n",
       "      <td>neighborhood_Thorncliffe Park (55)</td>\n",
       "      <td>0.000085</td>\n",
       "    </tr>\n",
       "    <tr>\n",
       "      <th>79</th>\n",
       "      <td>neighborhood_Maple Leaf (29)</td>\n",
       "      <td>0.000082</td>\n",
       "    </tr>\n",
       "    <tr>\n",
       "      <th>29</th>\n",
       "      <td>neighborhood_Clairlea-Birchmount (120)</td>\n",
       "      <td>0.000079</td>\n",
       "    </tr>\n",
       "    <tr>\n",
       "      <th>7</th>\n",
       "      <td>neighborhood_Alderwood (20)</td>\n",
       "      <td>0.000075</td>\n",
       "    </tr>\n",
       "    <tr>\n",
       "      <th>52</th>\n",
       "      <td>neighborhood_Guildwood (140)</td>\n",
       "      <td>0.000067</td>\n",
       "    </tr>\n",
       "    <tr>\n",
       "      <th>21</th>\n",
       "      <td>neighborhood_Bridle Path-Sunnybrook-York Mills...</td>\n",
       "      <td>0.000063</td>\n",
       "    </tr>\n",
       "    <tr>\n",
       "      <th>41</th>\n",
       "      <td>neighborhood_Edenbridge-Humber Valley (9)</td>\n",
       "      <td>0.000061</td>\n",
       "    </tr>\n",
       "    <tr>\n",
       "      <th>45</th>\n",
       "      <td>neighborhood_Eringate-Centennial-West Deane (11)</td>\n",
       "      <td>0.000061</td>\n",
       "    </tr>\n",
       "    <tr>\n",
       "      <th>59</th>\n",
       "      <td>neighborhood_Humber Summit (21)</td>\n",
       "      <td>0.000057</td>\n",
       "    </tr>\n",
       "    <tr>\n",
       "      <th>36</th>\n",
       "      <td>neighborhood_Dorset Park (126)</td>\n",
       "      <td>0.000055</td>\n",
       "    </tr>\n",
       "    <tr>\n",
       "      <th>30</th>\n",
       "      <td>neighborhood_Clanton Park (33)</td>\n",
       "      <td>0.000053</td>\n",
       "    </tr>\n",
       "    <tr>\n",
       "      <th>27</th>\n",
       "      <td>neighborhood_Centennial Scarborough (133)</td>\n",
       "      <td>0.000050</td>\n",
       "    </tr>\n",
       "    <tr>\n",
       "      <th>42</th>\n",
       "      <td>neighborhood_Eglinton East (138)</td>\n",
       "      <td>0.000050</td>\n",
       "    </tr>\n",
       "    <tr>\n",
       "      <th>68</th>\n",
       "      <td>neighborhood_Kingsview Village-The Westway (6)</td>\n",
       "      <td>0.000047</td>\n",
       "    </tr>\n",
       "    <tr>\n",
       "      <th>104</th>\n",
       "      <td>neighborhood_Princess-Rosethorn (10)</td>\n",
       "      <td>0.000043</td>\n",
       "    </tr>\n",
       "    <tr>\n",
       "      <th>18</th>\n",
       "      <td>neighborhood_Black Creek (24)</td>\n",
       "      <td>0.000028</td>\n",
       "    </tr>\n",
       "    <tr>\n",
       "      <th>69</th>\n",
       "      <td>neighborhood_Kingsway South (15)</td>\n",
       "      <td>0.000022</td>\n",
       "    </tr>\n",
       "    <tr>\n",
       "      <th>15</th>\n",
       "      <td>neighborhood_Beechborough-Greenbrook (112)</td>\n",
       "      <td>0.000022</td>\n",
       "    </tr>\n",
       "    <tr>\n",
       "      <th>43</th>\n",
       "      <td>neighborhood_Elms-Old Rexdale (5)</td>\n",
       "      <td>0.000017</td>\n",
       "    </tr>\n",
       "    <tr>\n",
       "      <th>80</th>\n",
       "      <td>neighborhood_Markland Wood (12)</td>\n",
       "      <td>0.000000</td>\n",
       "    </tr>\n",
       "    <tr>\n",
       "      <th>50</th>\n",
       "      <td>neighborhood_Glenfield-Jane Heights (25)</td>\n",
       "      <td>0.000000</td>\n",
       "    </tr>\n",
       "  </tbody>\n",
       "</table>\n",
       "<p>144 rows × 2 columns</p>\n",
       "</div>"
      ],
      "text/plain": [
       "                                               feature  importance\n",
       "0                                              reviews    0.783370\n",
       "3                                                price    0.108184\n",
       "1                                         accommodates    0.031769\n",
       "2                                             bedrooms    0.011909\n",
       "4                               room_type_Private room    0.004704\n",
       "126  neighborhood_Waterfront Communities-The Island...    0.003625\n",
       "114                  neighborhood_South Riverdale (70)    0.001697\n",
       "5                                room_type_Shared room    0.001624\n",
       "124                       neighborhood_University (79)    0.001623\n",
       "84                         neighborhood_Moss Park (73)    0.001522\n",
       "67              neighborhood_Kensington-Chinatown (78)    0.001498\n",
       "8                              neighborhood_Annex (95)    0.001478\n",
       "92                           neighborhood_Niagara (82)    0.001466\n",
       "123                neighborhood_Trinity-Bellwoods (81)    0.001266\n",
       "37   neighborhood_Dovercourt-Wallace Emerson-Juncti...    0.001138\n",
       "17            neighborhood_Birchcliffe-Cliffside (122)    0.001129\n",
       "105                      neighborhood_Regent Park (72)    0.001021\n",
       "113                   neighborhood_South Parkdale (85)    0.001001\n",
       "11               neighborhood_Bay Street Corridor (76)    0.000982\n",
       "28             neighborhood_Church-Yonge Corridor (75)    0.000969\n",
       "81                         neighborhood_Milliken (130)    0.000934\n",
       "99           neighborhood_Palmerston-Little Italy (80)    0.000906\n",
       "12                   neighborhood_Bayview Village (52)    0.000905\n",
       "120                      neighborhood_The Beaches (63)    0.000899\n",
       "88              neighborhood_Mount Pleasant West (104)    0.000872\n",
       "71               neighborhood_Lambton Baby Point (114)    0.000868\n",
       "24   neighborhood_Cabbagetown-South St.James Town (71)    0.000844\n",
       "6      neighborhood_Agincourt South-Malvern West (128)    0.000756\n",
       "139                         neighborhood_Wychwood (94)    0.000731\n",
       "34                neighborhood_Danforth East York (59)    0.000706\n",
       "..                                                 ...         ...\n",
       "35                neighborhood_Don Valley Village (47)    0.000122\n",
       "101             neighborhood_Pelmo Park-Humberlea (23)    0.000121\n",
       "66                     neighborhood_Kennedy Park (124)    0.000118\n",
       "119                    neighborhood_Taylor-Massey (61)    0.000113\n",
       "115             neighborhood_St.Andrew-Windfields (40)    0.000107\n",
       "112             neighborhood_Scarborough Village (139)    0.000107\n",
       "74              neighborhood_Lawrence Park South (103)    0.000090\n",
       "125                 neighborhood_Victoria Village (43)    0.000089\n",
       "58           neighborhood_Humber Heights-Westmount (8)    0.000087\n",
       "122                 neighborhood_Thorncliffe Park (55)    0.000085\n",
       "79                        neighborhood_Maple Leaf (29)    0.000082\n",
       "29              neighborhood_Clairlea-Birchmount (120)    0.000079\n",
       "7                          neighborhood_Alderwood (20)    0.000075\n",
       "52                        neighborhood_Guildwood (140)    0.000067\n",
       "21   neighborhood_Bridle Path-Sunnybrook-York Mills...    0.000063\n",
       "41           neighborhood_Edenbridge-Humber Valley (9)    0.000061\n",
       "45    neighborhood_Eringate-Centennial-West Deane (11)    0.000061\n",
       "59                     neighborhood_Humber Summit (21)    0.000057\n",
       "36                      neighborhood_Dorset Park (126)    0.000055\n",
       "30                      neighborhood_Clanton Park (33)    0.000053\n",
       "27           neighborhood_Centennial Scarborough (133)    0.000050\n",
       "42                    neighborhood_Eglinton East (138)    0.000050\n",
       "68      neighborhood_Kingsview Village-The Westway (6)    0.000047\n",
       "104               neighborhood_Princess-Rosethorn (10)    0.000043\n",
       "18                       neighborhood_Black Creek (24)    0.000028\n",
       "69                    neighborhood_Kingsway South (15)    0.000022\n",
       "15          neighborhood_Beechborough-Greenbrook (112)    0.000022\n",
       "43                   neighborhood_Elms-Old Rexdale (5)    0.000017\n",
       "80                     neighborhood_Markland Wood (12)    0.000000\n",
       "50            neighborhood_Glenfield-Jane Heights (25)    0.000000\n",
       "\n",
       "[144 rows x 2 columns]"
      ]
     },
     "execution_count": 31,
     "metadata": {},
     "output_type": "execute_result"
    }
   ],
   "source": [
    "i"
   ]
  },
  {
   "cell_type": "markdown",
   "metadata": {},
   "source": [
    "**let's ignore neighborhood**\n",
    "<br>\n",
    "run RF without neighborhood"
   ]
  },
  {
   "cell_type": "code",
   "execution_count": 21,
   "metadata": {},
   "outputs": [],
   "source": [
    "XX=X[['reviews','accommodates','bedrooms','price','room_type_Private room','room_type_Shared room']]\n",
    "XX.head()\n",
    "XX_train, XX_test, y_train, y_test = train_test_split(XX, y, test_size=0.3, stratify=y ,random_state=0)"
   ]
  },
  {
   "cell_type": "code",
   "execution_count": 23,
   "metadata": {},
   "outputs": [
    {
     "data": {
      "text/plain": [
       "0.79371044303797467"
      ]
     },
     "execution_count": 23,
     "metadata": {},
     "output_type": "execute_result"
    }
   ],
   "source": [
    "#simpler model with 4% lower accuracy\n",
    "model = RandomForestClassifier(n_estimators=12,max_depth=30)\n",
    "model.fit(XX_train, y_train)\n",
    "y_pred = model.predict(XX_test)\n",
    "accuracy_score(y_test,y_pred)\n"
   ]
  },
  {
   "cell_type": "code",
   "execution_count": 24,
   "metadata": {},
   "outputs": [],
   "source": [
    "# Probabilities for each class\n",
    "model_probs = model.predict_proba(XX_test)[:, 1]\n"
   ]
  },
  {
   "cell_type": "markdown",
   "metadata": {},
   "source": [
    "# KNeighborsClassifier"
   ]
  },
  {
   "cell_type": "code",
   "execution_count": 25,
   "metadata": {},
   "outputs": [
    {
     "data": {
      "text/plain": [
       "array([[6422,    0,    0,    0,    0,    0,    1,    2,    2,    4],\n",
       "       [   0,    1,    0,    0,    0,    0,    0,    0,    0,    0],\n",
       "       [   0,    0,    0,    0,    0,    0,    0,    0,    1,    0],\n",
       "       [   0,    0,    0,    1,    0,    0,    0,    0,    0,    0],\n",
       "       [   0,    0,    0,    0,   13,    0,    1,    0,    2,    1],\n",
       "       [   2,    0,    0,    0,    0,   16,    1,    0,    3,    5],\n",
       "       [   5,    0,    0,    0,    2,    3,   43,    9,   25,   26],\n",
       "       [   4,    0,    0,    0,    1,    6,    8,  198,  130,  143],\n",
       "       [  19,    0,    0,    0,    4,   11,   27,  117, 1686, 1257],\n",
       "       [  29,    1,    0,    0,    4,   19,   15,  119, 1041, 3738]])"
      ]
     },
     "execution_count": 25,
     "metadata": {},
     "output_type": "execute_result"
    }
   ],
   "source": [
    "from sklearn.neighbors import KNeighborsClassifier\n",
    "\n",
    "\n",
    "model = KNeighborsClassifier()\n",
    "model.fit(X_train,y_train)\n",
    "y_pred = model.predict(X_test)\n",
    "\n",
    "\n",
    "from sklearn.metrics import classification_report, confusion_matrix, accuracy_score\n",
    "\n",
    "\n",
    "confusion_matrix(y_test,y_pred)"
   ]
  },
  {
   "cell_type": "code",
   "execution_count": 26,
   "metadata": {},
   "outputs": [
    {
     "data": {
      "text/plain": [
       "0.79891877637130804"
      ]
     },
     "execution_count": 26,
     "metadata": {},
     "output_type": "execute_result"
    }
   ],
   "source": [
    "accuracy_score(y_test,y_pred)"
   ]
  },
  {
   "cell_type": "markdown",
   "metadata": {},
   "source": [
    "###  Accuracy Score"
   ]
  },
  {
   "cell_type": "code",
   "execution_count": 27,
   "metadata": {},
   "outputs": [
    {
     "name": "stdout",
     "output_type": "stream",
     "text": [
      "('score value for k= ', 1, 'is:', 0.8667589662447257)\n",
      "('score value for k= ', 2, 'is:', 0.82693829113924056)\n",
      "('score value for k= ', 3, 'is:', 0.82950949367088611)\n",
      "('score value for k= ', 4, 'is:', 0.80669831223628696)\n",
      "('score value for k= ', 5, 'is:', 0.79891877637130804)\n"
     ]
    }
   ],
   "source": [
    "score = [] #to store rmse values for different k\n",
    "for K in range(5):\n",
    "    K = K+1\n",
    "    model = KNeighborsClassifier(n_neighbors = K)\n",
    "    \n",
    "    model.fit(X_train, y_train)  #fit the model\n",
    "    y_pred=model.predict(X_test) #make prediction on test set\n",
    "    score.append(accuracy_score(y_test,y_pred))\n",
    "    cur_score=accuracy_score(y_test,y_pred)\n",
    "    print('score value for k= ' , K , 'is:', cur_score)\n",
    "    "
   ]
  },
  {
   "cell_type": "markdown",
   "metadata": {},
   "source": [
    "KNN performs better with a lower number of features \n",
    "<br>\n",
    "let's ignore neighborhood"
   ]
  },
  {
   "cell_type": "code",
   "execution_count": 28,
   "metadata": {},
   "outputs": [
    {
     "name": "stdout",
     "output_type": "stream",
     "text": [
      "('score value for k= ', 1, 'is:', 0.77564609704641352)\n",
      "('score value for k= ', 2, 'is:', 0.74426424050632911)\n",
      "('score value for k= ', 3, 'is:', 0.7645042194092827)\n",
      "('score value for k= ', 4, 'is:', 0.75698839662447259)\n",
      "('score value for k= ', 5, 'is:', 0.76417457805907174)\n",
      "('score value for k= ', 6, 'is:', 0.75751582278481011)\n",
      "('score value for k= ', 7, 'is:', 0.76305379746835444)\n",
      "('score value for k= ', 8, 'is:', 0.7559994725738397)\n",
      "('score value for k= ', 9, 'is:', 0.75995516877637126)\n",
      "('score value for k= ', 10, 'is:', 0.7583728902953587)\n"
     ]
    }
   ],
   "source": [
    "score = [] #to store accuracy values for different k\n",
    "for K in range(10):\n",
    "    K = K+1\n",
    "    model = KNeighborsClassifier(n_neighbors = K)\n",
    "\n",
    "    model.fit(XX_train, y_train)  #fit the model\n",
    "    y_pred=model.predict(XX_test) #make prediction on test set\n",
    "    score.append(accuracy_score(y_test,y_pred))\n",
    "    cur_score=accuracy_score(y_test,y_pred)\n",
    "    print('score value for k= ' , K , 'is:', cur_score)\n",
    " #might be overfitting problem   "
   ]
  },
  {
   "cell_type": "markdown",
   "metadata": {},
   "source": [
    "**We can test the training set**\n",
    "<br>\n",
    " It results in over 10% accuracy difference, what it tells?"
   ]
  },
  {
   "cell_type": "code",
   "execution_count": 29,
   "metadata": {},
   "outputs": [
    {
     "name": "stdout",
     "output_type": "stream",
     "text": [
      "('score value for k= ', 1, 'is:', 0.91684326523692461)\n",
      "('score value for k= ', 2, 'is:', 0.85829730722500075)\n",
      "('score value for k= ', 3, 'is:', 0.86507869232290691)\n",
      "('score value for k= ', 4, 'is:', 0.84425418891808657)\n",
      "('score value for k= ', 5, 'is:', 0.84125907716651127)\n",
      "('score value for k= ', 6, 'is:', 0.82893956090531495)\n",
      "('score value for k= ', 7, 'is:', 0.82376875476816136)\n",
      "('score value for k= ', 8, 'is:', 0.81568760419315645)\n",
      "('score value for k= ', 9, 'is:', 0.8116752846768952)\n",
      "('score value for k= ', 10, 'is:', 0.80560029386002086)\n"
     ]
    }
   ],
   "source": [
    "score_trained = [] \n",
    "for K in range(10):\n",
    "    K = K+1\n",
    "    model = KNeighborsClassifier(n_neighbors = K)\n",
    "\n",
    "    model.fit(XX_train, y_train)  #fit the model\n",
    "    y_pred=model.predict(XX_train) #make prediction on test set\n",
    "    score_trained.append(accuracy_score(y_train,y_pred))\n",
    "    cur_score_trained=accuracy_score(y_train,y_pred)\n",
    "    print('score value for k= ' , K , 'is:', cur_score_trained)\n",
    " "
   ]
  },
  {
   "cell_type": "markdown",
   "metadata": {},
   "source": [
    "Try to explain the plot below. It is a poor model? overfitting problem? or ....."
   ]
  },
  {
   "cell_type": "code",
   "execution_count": 30,
   "metadata": {},
   "outputs": [
    {
     "data": {
      "text/plain": [
       "Text(0.5,1,'The accuracy scores,KNN')"
      ]
     },
     "execution_count": 30,
     "metadata": {},
     "output_type": "execute_result"
    },
    {
     "data": {
      "image/png": "[encoded data removed]",
      "text/plain": [
       "<Figure size 432x288 with 1 Axes>"
      ]
     },
     "metadata": {
      "needs_background": "light"
     },
     "output_type": "display_data"
    }
   ],
   "source": [
    "ax = plt.subplot(111)\n",
    "plt.plot(range(1,11),score,label='validation')\n",
    "plt.plot(range(1,11),score_trained,color='red',label='trained score')\n",
    "plt.xlabel(\"number of K\")\n",
    "plt.legend()\n",
    "plt.ylabel('Cross_val_score')\n",
    "plt.title('The accuracy scores,KNN')\n",
    "#over 10% difference, what it tells?  a poor model? overfitting?"
   ]
  },
  {
   "cell_type": "markdown",
   "metadata": {},
   "source": [
    "### Performing 10-fold cross validation"
   ]
  },
  {
   "cell_type": "code",
   "execution_count": 31,
   "metadata": {},
   "outputs": [
    {
     "name": "stderr",
     "output_type": "stream",
     "text": [
      "/Users/niloofarzarifi/anaconda2/lib/python2.7/site-packages/sklearn/model_selection/_split.py:605: Warning: The least populated class in y has only 2 members, which is too few. The minimum number of members in any class cannot be less than n_splits=10.\n",
      "  % (min_groups, self.n_splits)), Warning)\n"
     ]
    },
    {
     "name": "stdout",
     "output_type": "stream",
     "text": [
      "('cross_val_score: ', 1, 'is:', 0.79498820354806432)\n",
      "('cross_val_score: ', 2, 'is:', 0.76411179814429198)\n",
      "('cross_val_score: ', 3, 'is:', 0.78474309898128669)\n",
      "('cross_val_score: ', 4, 'is:', 0.77809736547693009)\n",
      "('cross_val_score: ', 5, 'is:', 0.78753245966314467)\n",
      "('cross_val_score: ', 6, 'is:', 0.7781191184006474)\n",
      "('cross_val_score: ', 7, 'is:', 0.77938520385659915)\n",
      "('cross_val_score: ', 8, 'is:', 0.7744198329760914)\n",
      "('cross_val_score: ', 9, 'is:', 0.77633807674992128)\n",
      "('cross_val_score: ', 10, 'is:', 0.77267945073838729)\n",
      "('cross_val_score: ', 11, 'is:', 0.77394516124268586)\n",
      "('cross_val_score: ', 12, 'is:', 0.76951475970504124)\n",
      "('cross_val_score: ', 13, 'is:', 0.77115641747133301)\n",
      "('cross_val_score: ', 14, 'is:', 0.76791266712697503)\n",
      "('cross_val_score: ', 15, 'is:', 0.76840741841378646)\n",
      "('cross_val_score: ', 16, 'is:', 0.76609377684595548)\n",
      "('cross_val_score: ', 17, 'is:', 0.76674636167000898)\n",
      "('cross_val_score: ', 18, 'is:', 0.76561894039373946)\n",
      "('cross_val_score: ', 19, 'is:', 0.76577735978438821)\n",
      "('cross_val_score: ', 20, 'is:', 0.76413605026807785)\n"
     ]
    }
   ],
   "source": [
    "from sklearn.model_selection import RandomizedSearchCV\n",
    "from sklearn import model_selection\n",
    "\n",
    "\n",
    "# empty list that will hold cv scores\n",
    "cv_scores = []\n",
    "\n",
    "\n",
    "for k in range(20):\n",
    "    k=k+1\n",
    "    knn = KNeighborsClassifier(n_neighbors=k)\n",
    "    scores = model_selection.cross_val_score(knn, XX, y, cv=10,scoring='accuracy' )\n",
    "    \n",
    "    cv_scores.append(scores.mean())\n",
    "    print('cross_val_score: ' , k , 'is:', scores.mean())"
   ]
  },
  {
   "cell_type": "code",
   "execution_count": 32,
   "metadata": {},
   "outputs": [
    {
     "data": {
      "text/plain": [
       "Text(0.5,1,'Mean of Cross validation scores with cv=10')"
      ]
     },
     "execution_count": 32,
     "metadata": {},
     "output_type": "execute_result"
    },
    {
     "data": {
      "image/png": "[encoded data removed]",
      "text/plain": [
       "<Figure size 432x288 with 1 Axes>"
      ]
     },
     "metadata": {
      "needs_background": "light"
     },
     "output_type": "display_data"
    }
   ],
   "source": [
    "plt.plot(range(1,21),cv_scores)\n",
    "\n",
    "plt.xlabel(\"number of K\")\n",
    "plt.ylabel('Cross_val_score')\n",
    "plt.title('Mean of Cross validation scores with cv=10')\n",
    "#with 70% of data trained, we have overfitting issue \n"
   ]
  },
  {
   "cell_type": "markdown",
   "metadata": {},
   "source": [
    "### Changing to misclassification error"
   ]
  },
  {
   "cell_type": "code",
   "execution_count": 33,
   "metadata": {},
   "outputs": [
    {
     "name": "stdout",
     "output_type": "stream",
     "text": [
      "The optimal number of neighbors is 0\n"
     ]
    },
    {
     "data": {
      "image/png": "[encoded data removed]",
      "text/plain": [
       "<Figure size 432x288 with 1 Axes>"
      ]
     },
     "metadata": {
      "needs_background": "light"
     },
     "output_type": "display_data"
    }
   ],
   "source": [
    "MSE = [1 - x for x in cv_scores]\n",
    "\n",
    "# determining best k\n",
    "optimal_k = range(20)[MSE.index(min(MSE))]\n",
    "print \"The optimal number of neighbors is %d\" % optimal_k\n",
    "\n",
    "# plot misclassification error vs k\n",
    "plt.plot(range(20), MSE)\n",
    "plt.xlabel('Number of Neighbors K')\n",
    "plt.ylabel('Misclassification Error')\n",
    "plt.show()"
   ]
  },
  {
   "cell_type": "code",
   "execution_count": 42,
   "metadata": {},
   "outputs": [],
   "source": [
    "\n",
    "#import parfit.parfit as pf\n",
    "#https://towardsdatascience.com/how-to-make-sgd-classifier-perform-as-well-as-logistic-regression-using-parfit-cc10bca2d3c4\n",
    "    \n",
    "    "
   ]
  },
  {
   "cell_type": "code",
   "execution_count": 66,
   "metadata": {},
   "outputs": [],
   "source": [
    "import plotly.plotly as py\n",
    "import plotly.graph_objs as go\n",
    "\n",
    "from plotly.offline import download_plotlyjs, init_notebook_mode, plot, iplot\n",
    "import plotly"
   ]
  },
  {
   "cell_type": "code",
   "execution_count": 67,
   "metadata": {},
   "outputs": [],
   "source": [
    "#Handling Character Data for Machine Learning (encoding)\n",
    "#https://dzone.com/articles/handling-character-data-for-machine-learning"
   ]
  },
  {
   "cell_type": "code",
   "execution_count": null,
   "metadata": {},
   "outputs": [],
   "source": []
  },
  {
   "cell_type": "code",
   "execution_count": null,
   "metadata": {},
   "outputs": [],
   "source": []
  }
 ],
 "metadata": {
  "kernelspec": {
   "display_name": "Python 2",
   "language": "python",
   "name": "python2"
  },
  "language_info": {
   "codemirror_mode": {
    "name": "ipython",
    "version": 2
   },
   "file_extension": ".py",
   "mimetype": "text/x-python",
   "name": "python",
   "nbconvert_exporter": "python",
   "pygments_lexer": "ipython2",
   "version": "2.7.15"
  }
 },
 "nbformat": 4,
 "nbformat_minor": 2
}
